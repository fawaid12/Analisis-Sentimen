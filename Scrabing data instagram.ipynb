{
 "cells": [
  {
   "cell_type": "code",
   "execution_count": 2,
   "id": "cda1f5e8-d59b-48f4-af1e-957b5e519523",
   "metadata": {},
   "outputs": [],
   "source": [
    "from selenium import webdriver\n",
    "from selenium.webdriver.common.by import By\n",
    "from selenium.webdriver.common.keys import Keys\n",
    "from selenium.webdriver.support.ui import WebDriverWait\n",
    "from selenium.webdriver.support import expected_conditions as EC\n",
    "import time, urllib.request, requests\n",
    "from bs4 import BeautifulSoup\n",
    "import pandas as pd\n",
    "from selenium.webdriver.chrome.service import Service\n",
    "from webdriver_manager.chrome import ChromeDriverManager\n",
    "from tqdm import tqdm\n",
    "import csv\n",
    "import re\n",
    "import random"
   ]
  },
  {
   "cell_type": "code",
   "execution_count": 98,
   "id": "a9a3e69f-9efc-482b-8cf5-8ee677347e94",
   "metadata": {},
   "outputs": [],
   "source": [
    "# Inisialisasi driver dengan service\n",
    "service = Service(ChromeDriverManager().install())\n",
    "driver = webdriver.Chrome(service=service)"
   ]
  },
  {
   "cell_type": "code",
   "execution_count": 100,
   "id": "c2310951-0779-4798-bf1c-514dda567a5b",
   "metadata": {},
   "outputs": [],
   "source": [
    "#setting username dan password\n",
    "USERNAME = 'laros.woodart'  # Ganti dengan akun kamu\n",
    "PASSWORD = 'bismillahkbmi'  # Ganti dengan password akun kamu\n",
    "TARGET_PROFILE = 'jokowi'            # Target akun yang mau diambil komentar"
   ]
  },
  {
   "cell_type": "code",
   "execution_count": 102,
   "id": "a069e08e-940d-4936-9f8d-c76dbb629fd5",
   "metadata": {},
   "outputs": [],
   "source": [
    "#buka instagram\n",
    "driver.get('https://www.instagram.com')"
   ]
  },
  {
   "cell_type": "code",
   "execution_count": 104,
   "id": "9c4b4c40-a89e-47b3-9897-4ddd1ab83a49",
   "metadata": {},
   "outputs": [],
   "source": [
    "# Tunggu field username muncul\n",
    "wait = WebDriverWait(driver, 15)\n",
    "username_input = wait.until(EC.presence_of_element_located((By.NAME, 'username')))\n",
    "password_input = wait.until(EC.presence_of_element_located((By.NAME, 'password')))"
   ]
  },
  {
   "cell_type": "code",
   "execution_count": 106,
   "id": "5e5abc80-c3ef-4f2f-95c6-10b72e65ed7f",
   "metadata": {},
   "outputs": [],
   "source": [
    "# Isi username dan password\n",
    "username_input.send_keys(USERNAME)\n",
    "password_input.send_keys(PASSWORD)\n",
    "password_input.send_keys(Keys.RETURN)\n",
    "\n",
    "time.sleep(5)  # Tunggu proses login"
   ]
  },
  {
   "cell_type": "code",
   "execution_count": 108,
   "id": "de66eabb-dde2-4b95-b35d-a613c4b2e233",
   "metadata": {},
   "outputs": [],
   "source": [
    "### 2. Buka profil target\n",
    "driver.get(f'https://www.instagram.com/{TARGET_PROFILE}/')\n",
    "time.sleep(5)"
   ]
  },
  {
   "cell_type": "markdown",
   "id": "8f3c3420-f2b1-43eb-b930-de4f3034fec6",
   "metadata": {},
   "source": [
    "# Scroll halaman untuk load semua postingan\n",
    "for _ in range(10):\n",
    "    driver.execute_script(\"window.scrollTo(0, document.body.scrollHeight);\")\n",
    "    time.sleep(random.uniform(2, 5))"
   ]
  },
  {
   "cell_type": "code",
   "execution_count": 110,
   "id": "c01e575a-e02e-495f-8ead-c5f1aa588746",
   "metadata": {},
   "outputs": [
    {
     "name": "stdout",
     "output_type": "stream",
     "text": [
      "Total postingan ditemukan: 0\n",
      "Total postingan ditemukan: 1\n",
      "Total postingan ditemukan: 4\n",
      "Total postingan ditemukan: 8\n",
      "Total postingan ditemukan: 12\n",
      "Total postingan ditemukan: 17\n",
      "Total postingan ditemukan: 26\n",
      "Total postingan ditemukan: 36\n",
      "Total postingan ditemukan: 44\n",
      "Total postingan ditemukan: 54\n",
      "Total postingan ditemukan: 65\n",
      "Total postingan ditemukan: 72\n",
      "Total postingan ditemukan: 82\n",
      "Total postingan ditemukan: 92\n",
      "Total postingan ditemukan: 103\n",
      "Total postingan ditemukan: 113\n",
      "Total postingan ditemukan: 120\n",
      "Total postingan ditemukan: 128\n",
      "Total postingan ditemukan: 139\n",
      "Total postingan ditemukan: 148\n",
      "Total postingan ditemukan: 157\n",
      "Total postingan ditemukan: 166\n",
      "Total postingan ditemukan: 177\n",
      "Total postingan ditemukan: 184\n",
      "Total postingan ditemukan: 192\n",
      "Total postingan ditemukan: 200\n",
      "Total postingan ditemukan: 210\n",
      "Total postingan ditemukan: 219\n",
      "Total postingan ditemukan: 225\n",
      "Total postingan ditemukan: 231\n",
      "Total postingan ditemukan: 239\n",
      "Total postingan ditemukan: 248\n",
      "Total postingan ditemukan: 255\n",
      "Total postingan ditemukan: 265\n",
      "Total postingan ditemukan: 273\n",
      "Total postingan ditemukan: 283\n",
      "Total postingan ditemukan: 294\n",
      "Total postingan ditemukan: 304\n",
      "Total link postingan terkumpul: 304\n"
     ]
    }
   ],
   "source": [
    "# Scroll sedikit dulu biar postingan mulai kebuka\n",
    "for _ in range(1):\n",
    "    driver.execute_script(\"window.scrollTo(0, document.body.scrollHeight);\")\n",
    "    time.sleep(random.uniform(2, 5))\n",
    "links = []\n",
    "\n",
    "# Scroll halaman sampai dapat 300 postingan\n",
    "while True:\n",
    "    soup = BeautifulSoup(driver.page_source, 'html.parser')\n",
    "    \n",
    "    for a in soup.find_all('a', href=True):\n",
    "        if '/p/' in a['href']:\n",
    "            links.append(\"https://www.instagram.com\" + a['href'])\n",
    "    \n",
    "    links = list(set(links))  # Remove duplicate\n",
    "\n",
    "    print(f\"Total postingan ditemukan: {len(links)}\")\n",
    "\n",
    "    if len(links) >= 300:\n",
    "        break\n",
    "    \n",
    "    # Scroll ke bawah untuk load lebih banyak postingan\n",
    "    driver.execute_script(\"window.scrollTo(0, document.body.scrollHeight);\")\n",
    "    time.sleep(random.uniform(2, 5))\n",
    "\n",
    "print(f\"Total link postingan terkumpul: {len(links)}\")"
   ]
  },
  {
   "cell_type": "code",
   "execution_count": 76,
   "id": "98d1d680-4261-4641-bac5-21dcb529f8a0",
   "metadata": {},
   "outputs": [
    {
     "name": "stderr",
     "output_type": "stream",
     "text": [
      "  0%|          | 1/304 [00:11<1:00:05, 11.90s/it]"
     ]
    },
    {
     "name": "stdout",
     "output_type": "stream",
     "text": [
      "Komentar dari postingan ini: 0, Total komentar terkumpul: 0\n"
     ]
    },
    {
     "name": "stderr",
     "output_type": "stream",
     "text": [
      "  1%|          | 2/304 [00:23<57:55, 11.51s/it]  "
     ]
    },
    {
     "name": "stdout",
     "output_type": "stream",
     "text": [
      "Komentar dari postingan ini: 0, Total komentar terkumpul: 0\n"
     ]
    },
    {
     "name": "stderr",
     "output_type": "stream",
     "text": [
      "  1%|          | 3/304 [00:34<56:27, 11.25s/it]"
     ]
    },
    {
     "name": "stdout",
     "output_type": "stream",
     "text": [
      "Komentar dari postingan ini: 13, Total komentar terkumpul: 13\n"
     ]
    },
    {
     "name": "stderr",
     "output_type": "stream",
     "text": [
      "  1%|▏         | 4/304 [00:50<1:05:55, 13.18s/it]"
     ]
    },
    {
     "name": "stdout",
     "output_type": "stream",
     "text": [
      "Komentar dari postingan ini: 15, Total komentar terkumpul: 28\n"
     ]
    },
    {
     "name": "stderr",
     "output_type": "stream",
     "text": [
      "  2%|▏         | 5/304 [01:01<1:01:52, 12.42s/it]"
     ]
    },
    {
     "name": "stdout",
     "output_type": "stream",
     "text": [
      "Komentar dari postingan ini: 12, Total komentar terkumpul: 40\n"
     ]
    },
    {
     "name": "stderr",
     "output_type": "stream",
     "text": [
      "  2%|▏         | 6/304 [01:12<59:39, 12.01s/it]  "
     ]
    },
    {
     "name": "stdout",
     "output_type": "stream",
     "text": [
      "Komentar dari postingan ini: 12, Total komentar terkumpul: 52\n"
     ]
    },
    {
     "name": "stderr",
     "output_type": "stream",
     "text": [
      "  2%|▏         | 7/304 [01:24<58:50, 11.89s/it]"
     ]
    },
    {
     "name": "stdout",
     "output_type": "stream",
     "text": [
      "Komentar dari postingan ini: 15, Total komentar terkumpul: 67\n"
     ]
    },
    {
     "name": "stderr",
     "output_type": "stream",
     "text": [
      "  3%|▎         | 8/304 [01:35<57:38, 11.69s/it]"
     ]
    },
    {
     "name": "stdout",
     "output_type": "stream",
     "text": [
      "Komentar dari postingan ini: 15, Total komentar terkumpul: 82\n"
     ]
    },
    {
     "name": "stderr",
     "output_type": "stream",
     "text": [
      "  3%|▎         | 9/304 [01:46<56:59, 11.59s/it]"
     ]
    },
    {
     "name": "stdout",
     "output_type": "stream",
     "text": [
      "Komentar dari postingan ini: 13, Total komentar terkumpul: 95\n"
     ]
    },
    {
     "name": "stderr",
     "output_type": "stream",
     "text": [
      "  3%|▎         | 10/304 [01:57<55:53, 11.41s/it]"
     ]
    },
    {
     "name": "stdout",
     "output_type": "stream",
     "text": [
      "Komentar dari postingan ini: 12, Total komentar terkumpul: 107\n"
     ]
    },
    {
     "name": "stderr",
     "output_type": "stream",
     "text": [
      "  4%|▎         | 11/304 [02:09<55:38, 11.39s/it]"
     ]
    },
    {
     "name": "stdout",
     "output_type": "stream",
     "text": [
      "Komentar dari postingan ini: 15, Total komentar terkumpul: 122\n"
     ]
    },
    {
     "name": "stderr",
     "output_type": "stream",
     "text": [
      "  4%|▍         | 12/304 [02:20<55:08, 11.33s/it]"
     ]
    },
    {
     "name": "stdout",
     "output_type": "stream",
     "text": [
      "Komentar dari postingan ini: 8, Total komentar terkumpul: 130\n"
     ]
    },
    {
     "name": "stderr",
     "output_type": "stream",
     "text": [
      "  4%|▍         | 13/304 [02:31<54:56, 11.33s/it]"
     ]
    },
    {
     "name": "stdout",
     "output_type": "stream",
     "text": [
      "Komentar dari postingan ini: 13, Total komentar terkumpul: 143\n"
     ]
    },
    {
     "name": "stderr",
     "output_type": "stream",
     "text": [
      "  5%|▍         | 14/304 [02:42<54:38, 11.31s/it]"
     ]
    },
    {
     "name": "stdout",
     "output_type": "stream",
     "text": [
      "Komentar dari postingan ini: 14, Total komentar terkumpul: 157\n"
     ]
    },
    {
     "name": "stderr",
     "output_type": "stream",
     "text": [
      "  5%|▍         | 15/304 [02:54<54:16, 11.27s/it]"
     ]
    },
    {
     "name": "stdout",
     "output_type": "stream",
     "text": [
      "Komentar dari postingan ini: 15, Total komentar terkumpul: 172\n"
     ]
    },
    {
     "name": "stderr",
     "output_type": "stream",
     "text": [
      "  5%|▌         | 16/304 [03:05<54:06, 11.27s/it]"
     ]
    },
    {
     "name": "stdout",
     "output_type": "stream",
     "text": [
      "Komentar dari postingan ini: 13, Total komentar terkumpul: 185\n"
     ]
    },
    {
     "name": "stderr",
     "output_type": "stream",
     "text": [
      "  6%|▌         | 17/304 [03:16<54:18, 11.35s/it]"
     ]
    },
    {
     "name": "stdout",
     "output_type": "stream",
     "text": [
      "Komentar dari postingan ini: 13, Total komentar terkumpul: 198\n"
     ]
    },
    {
     "name": "stderr",
     "output_type": "stream",
     "text": [
      "  6%|▌         | 18/304 [03:28<53:51, 11.30s/it]"
     ]
    },
    {
     "name": "stdout",
     "output_type": "stream",
     "text": [
      "Komentar dari postingan ini: 15, Total komentar terkumpul: 213\n"
     ]
    },
    {
     "name": "stderr",
     "output_type": "stream",
     "text": [
      "  6%|▋         | 19/304 [03:39<53:39, 11.30s/it]"
     ]
    },
    {
     "name": "stdout",
     "output_type": "stream",
     "text": [
      "Komentar dari postingan ini: 13, Total komentar terkumpul: 226\n"
     ]
    },
    {
     "name": "stderr",
     "output_type": "stream",
     "text": [
      "  7%|▋         | 20/304 [03:50<53:38, 11.33s/it]"
     ]
    },
    {
     "name": "stdout",
     "output_type": "stream",
     "text": [
      "Komentar dari postingan ini: 13, Total komentar terkumpul: 239\n"
     ]
    },
    {
     "name": "stderr",
     "output_type": "stream",
     "text": [
      "  7%|▋         | 21/304 [04:02<53:30, 11.35s/it]"
     ]
    },
    {
     "name": "stdout",
     "output_type": "stream",
     "text": [
      "Komentar dari postingan ini: 11, Total komentar terkumpul: 250\n"
     ]
    },
    {
     "name": "stderr",
     "output_type": "stream",
     "text": [
      "  7%|▋         | 22/304 [04:13<53:09, 11.31s/it]"
     ]
    },
    {
     "name": "stdout",
     "output_type": "stream",
     "text": [
      "Komentar dari postingan ini: 15, Total komentar terkumpul: 265\n"
     ]
    },
    {
     "name": "stderr",
     "output_type": "stream",
     "text": [
      "  8%|▊         | 23/304 [04:24<52:53, 11.29s/it]"
     ]
    },
    {
     "name": "stdout",
     "output_type": "stream",
     "text": [
      "Komentar dari postingan ini: 15, Total komentar terkumpul: 280\n"
     ]
    },
    {
     "name": "stderr",
     "output_type": "stream",
     "text": [
      "  8%|▊         | 24/304 [04:35<52:47, 11.31s/it]"
     ]
    },
    {
     "name": "stdout",
     "output_type": "stream",
     "text": [
      "Komentar dari postingan ini: 12, Total komentar terkumpul: 292\n"
     ]
    },
    {
     "name": "stderr",
     "output_type": "stream",
     "text": [
      "  8%|▊         | 25/304 [04:47<52:40, 11.33s/it]"
     ]
    },
    {
     "name": "stdout",
     "output_type": "stream",
     "text": [
      "Komentar dari postingan ini: 11, Total komentar terkumpul: 303\n"
     ]
    },
    {
     "name": "stderr",
     "output_type": "stream",
     "text": [
      "  9%|▊         | 26/304 [04:58<52:34, 11.35s/it]"
     ]
    },
    {
     "name": "stdout",
     "output_type": "stream",
     "text": [
      "Komentar dari postingan ini: 11, Total komentar terkumpul: 314\n"
     ]
    },
    {
     "name": "stderr",
     "output_type": "stream",
     "text": [
      "  9%|▉         | 27/304 [05:09<52:11, 11.31s/it]"
     ]
    },
    {
     "name": "stdout",
     "output_type": "stream",
     "text": [
      "Komentar dari postingan ini: 11, Total komentar terkumpul: 325\n"
     ]
    },
    {
     "name": "stderr",
     "output_type": "stream",
     "text": [
      "  9%|▉         | 28/304 [05:21<51:56, 11.29s/it]"
     ]
    },
    {
     "name": "stdout",
     "output_type": "stream",
     "text": [
      "Komentar dari postingan ini: 12, Total komentar terkumpul: 337\n"
     ]
    },
    {
     "name": "stderr",
     "output_type": "stream",
     "text": [
      " 10%|▉         | 29/304 [05:32<51:36, 11.26s/it]"
     ]
    },
    {
     "name": "stdout",
     "output_type": "stream",
     "text": [
      "Komentar dari postingan ini: 12, Total komentar terkumpul: 349\n"
     ]
    },
    {
     "name": "stderr",
     "output_type": "stream",
     "text": [
      " 10%|▉         | 30/304 [05:43<51:25, 11.26s/it]"
     ]
    },
    {
     "name": "stdout",
     "output_type": "stream",
     "text": [
      "Komentar dari postingan ini: 14, Total komentar terkumpul: 363\n"
     ]
    },
    {
     "name": "stderr",
     "output_type": "stream",
     "text": [
      " 10%|█         | 31/304 [05:55<51:20, 11.29s/it]"
     ]
    },
    {
     "name": "stdout",
     "output_type": "stream",
     "text": [
      "Komentar dari postingan ini: 10, Total komentar terkumpul: 373\n"
     ]
    },
    {
     "name": "stderr",
     "output_type": "stream",
     "text": [
      " 11%|█         | 32/304 [06:06<51:07, 11.28s/it]"
     ]
    },
    {
     "name": "stdout",
     "output_type": "stream",
     "text": [
      "Komentar dari postingan ini: 13, Total komentar terkumpul: 386\n"
     ]
    },
    {
     "name": "stderr",
     "output_type": "stream",
     "text": [
      " 11%|█         | 33/304 [06:17<51:01, 11.30s/it]"
     ]
    },
    {
     "name": "stdout",
     "output_type": "stream",
     "text": [
      "Komentar dari postingan ini: 14, Total komentar terkumpul: 400\n"
     ]
    },
    {
     "name": "stderr",
     "output_type": "stream",
     "text": [
      " 11%|█         | 34/304 [06:29<51:05, 11.35s/it]"
     ]
    },
    {
     "name": "stdout",
     "output_type": "stream",
     "text": [
      "Komentar dari postingan ini: 13, Total komentar terkumpul: 413\n"
     ]
    },
    {
     "name": "stderr",
     "output_type": "stream",
     "text": [
      " 12%|█▏        | 35/304 [06:40<51:08, 11.41s/it]"
     ]
    },
    {
     "name": "stdout",
     "output_type": "stream",
     "text": [
      "Komentar dari postingan ini: 15, Total komentar terkumpul: 428\n"
     ]
    },
    {
     "name": "stderr",
     "output_type": "stream",
     "text": [
      " 12%|█▏        | 36/304 [06:51<50:45, 11.37s/it]"
     ]
    },
    {
     "name": "stdout",
     "output_type": "stream",
     "text": [
      "Komentar dari postingan ini: 13, Total komentar terkumpul: 441\n"
     ]
    },
    {
     "name": "stderr",
     "output_type": "stream",
     "text": [
      " 12%|█▏        | 37/304 [07:03<50:17, 11.30s/it]"
     ]
    },
    {
     "name": "stdout",
     "output_type": "stream",
     "text": [
      "Komentar dari postingan ini: 14, Total komentar terkumpul: 455\n"
     ]
    },
    {
     "name": "stderr",
     "output_type": "stream",
     "text": [
      " 12%|█▎        | 38/304 [07:14<49:49, 11.24s/it]"
     ]
    },
    {
     "name": "stdout",
     "output_type": "stream",
     "text": [
      "Komentar dari postingan ini: 14, Total komentar terkumpul: 469\n"
     ]
    },
    {
     "name": "stderr",
     "output_type": "stream",
     "text": [
      " 13%|█▎        | 39/304 [07:25<49:48, 11.28s/it]"
     ]
    },
    {
     "name": "stdout",
     "output_type": "stream",
     "text": [
      "Komentar dari postingan ini: 15, Total komentar terkumpul: 484\n"
     ]
    },
    {
     "name": "stderr",
     "output_type": "stream",
     "text": [
      " 13%|█▎        | 40/304 [07:36<49:27, 11.24s/it]"
     ]
    },
    {
     "name": "stdout",
     "output_type": "stream",
     "text": [
      "Komentar dari postingan ini: 15, Total komentar terkumpul: 499\n"
     ]
    },
    {
     "name": "stderr",
     "output_type": "stream",
     "text": [
      " 13%|█▎        | 41/304 [07:48<49:31, 11.30s/it]"
     ]
    },
    {
     "name": "stdout",
     "output_type": "stream",
     "text": [
      "Komentar dari postingan ini: 15, Total komentar terkumpul: 514\n"
     ]
    },
    {
     "name": "stderr",
     "output_type": "stream",
     "text": [
      " 14%|█▍        | 42/304 [07:59<49:21, 11.30s/it]"
     ]
    },
    {
     "name": "stdout",
     "output_type": "stream",
     "text": [
      "Komentar dari postingan ini: 13, Total komentar terkumpul: 527\n"
     ]
    },
    {
     "name": "stderr",
     "output_type": "stream",
     "text": [
      " 14%|█▍        | 43/304 [08:11<50:44, 11.66s/it]"
     ]
    },
    {
     "name": "stdout",
     "output_type": "stream",
     "text": [
      "Komentar dari postingan ini: 12, Total komentar terkumpul: 539\n"
     ]
    },
    {
     "name": "stderr",
     "output_type": "stream",
     "text": [
      " 14%|█▍        | 44/304 [08:23<49:57, 11.53s/it]"
     ]
    },
    {
     "name": "stdout",
     "output_type": "stream",
     "text": [
      "Komentar dari postingan ini: 11, Total komentar terkumpul: 550\n"
     ]
    },
    {
     "name": "stderr",
     "output_type": "stream",
     "text": [
      " 15%|█▍        | 45/304 [08:34<49:26, 11.45s/it]"
     ]
    },
    {
     "name": "stdout",
     "output_type": "stream",
     "text": [
      "Komentar dari postingan ini: 14, Total komentar terkumpul: 564\n"
     ]
    },
    {
     "name": "stderr",
     "output_type": "stream",
     "text": [
      " 15%|█▌        | 46/304 [08:45<48:56, 11.38s/it]"
     ]
    },
    {
     "name": "stdout",
     "output_type": "stream",
     "text": [
      "Komentar dari postingan ini: 14, Total komentar terkumpul: 578\n"
     ]
    },
    {
     "name": "stderr",
     "output_type": "stream",
     "text": [
      " 15%|█▌        | 47/304 [08:56<48:21, 11.29s/it]"
     ]
    },
    {
     "name": "stdout",
     "output_type": "stream",
     "text": [
      "Komentar dari postingan ini: 14, Total komentar terkumpul: 592\n"
     ]
    },
    {
     "name": "stderr",
     "output_type": "stream",
     "text": [
      " 16%|█▌        | 48/304 [09:08<48:45, 11.43s/it]"
     ]
    },
    {
     "name": "stdout",
     "output_type": "stream",
     "text": [
      "Komentar dari postingan ini: 13, Total komentar terkumpul: 605\n"
     ]
    },
    {
     "name": "stderr",
     "output_type": "stream",
     "text": [
      " 16%|█▌        | 49/304 [09:19<48:38, 11.44s/it]"
     ]
    },
    {
     "name": "stdout",
     "output_type": "stream",
     "text": [
      "Komentar dari postingan ini: 13, Total komentar terkumpul: 618\n"
     ]
    },
    {
     "name": "stderr",
     "output_type": "stream",
     "text": [
      " 16%|█▋        | 50/304 [09:31<48:08, 11.37s/it]"
     ]
    },
    {
     "name": "stdout",
     "output_type": "stream",
     "text": [
      "Komentar dari postingan ini: 15, Total komentar terkumpul: 633\n"
     ]
    },
    {
     "name": "stderr",
     "output_type": "stream",
     "text": [
      " 17%|█▋        | 51/304 [09:42<47:48, 11.34s/it]"
     ]
    },
    {
     "name": "stdout",
     "output_type": "stream",
     "text": [
      "Komentar dari postingan ini: 12, Total komentar terkumpul: 645\n"
     ]
    },
    {
     "name": "stderr",
     "output_type": "stream",
     "text": [
      " 17%|█▋        | 52/304 [09:54<48:18, 11.50s/it]"
     ]
    },
    {
     "name": "stdout",
     "output_type": "stream",
     "text": [
      "Komentar dari postingan ini: 15, Total komentar terkumpul: 660\n"
     ]
    },
    {
     "name": "stderr",
     "output_type": "stream",
     "text": [
      " 17%|█▋        | 53/304 [10:05<47:37, 11.39s/it]"
     ]
    },
    {
     "name": "stdout",
     "output_type": "stream",
     "text": [
      "Komentar dari postingan ini: 14, Total komentar terkumpul: 674\n"
     ]
    },
    {
     "name": "stderr",
     "output_type": "stream",
     "text": [
      " 18%|█▊        | 54/304 [10:16<47:01, 11.29s/it]"
     ]
    },
    {
     "name": "stdout",
     "output_type": "stream",
     "text": [
      "Komentar dari postingan ini: 9, Total komentar terkumpul: 683\n"
     ]
    },
    {
     "name": "stderr",
     "output_type": "stream",
     "text": [
      " 18%|█▊        | 55/304 [10:27<46:44, 11.26s/it]"
     ]
    },
    {
     "name": "stdout",
     "output_type": "stream",
     "text": [
      "Komentar dari postingan ini: 13, Total komentar terkumpul: 696\n"
     ]
    },
    {
     "name": "stderr",
     "output_type": "stream",
     "text": [
      " 18%|█▊        | 56/304 [10:38<46:23, 11.22s/it]"
     ]
    },
    {
     "name": "stdout",
     "output_type": "stream",
     "text": [
      "Komentar dari postingan ini: 13, Total komentar terkumpul: 709\n"
     ]
    },
    {
     "name": "stderr",
     "output_type": "stream",
     "text": [
      " 19%|█▉        | 57/304 [10:50<46:22, 11.26s/it]"
     ]
    },
    {
     "name": "stdout",
     "output_type": "stream",
     "text": [
      "Komentar dari postingan ini: 13, Total komentar terkumpul: 722\n"
     ]
    },
    {
     "name": "stderr",
     "output_type": "stream",
     "text": [
      " 19%|█▉        | 58/304 [11:02<47:01, 11.47s/it]"
     ]
    },
    {
     "name": "stdout",
     "output_type": "stream",
     "text": [
      "Komentar dari postingan ini: 13, Total komentar terkumpul: 735\n"
     ]
    },
    {
     "name": "stderr",
     "output_type": "stream",
     "text": [
      " 19%|█▉        | 59/304 [11:13<46:30, 11.39s/it]"
     ]
    },
    {
     "name": "stdout",
     "output_type": "stream",
     "text": [
      "Komentar dari postingan ini: 15, Total komentar terkumpul: 750\n"
     ]
    },
    {
     "name": "stderr",
     "output_type": "stream",
     "text": [
      " 20%|█▉        | 60/304 [11:24<45:56, 11.30s/it]"
     ]
    },
    {
     "name": "stdout",
     "output_type": "stream",
     "text": [
      "Komentar dari postingan ini: 14, Total komentar terkumpul: 764\n"
     ]
    },
    {
     "name": "stderr",
     "output_type": "stream",
     "text": [
      " 20%|██        | 61/304 [11:35<45:38, 11.27s/it]"
     ]
    },
    {
     "name": "stdout",
     "output_type": "stream",
     "text": [
      "Komentar dari postingan ini: 12, Total komentar terkumpul: 776\n"
     ]
    },
    {
     "name": "stderr",
     "output_type": "stream",
     "text": [
      " 20%|██        | 62/304 [11:46<45:10, 11.20s/it]"
     ]
    },
    {
     "name": "stdout",
     "output_type": "stream",
     "text": [
      "Komentar dari postingan ini: 15, Total komentar terkumpul: 791\n"
     ]
    },
    {
     "name": "stderr",
     "output_type": "stream",
     "text": [
      " 21%|██        | 63/304 [11:57<45:06, 11.23s/it]"
     ]
    },
    {
     "name": "stdout",
     "output_type": "stream",
     "text": [
      "Komentar dari postingan ini: 13, Total komentar terkumpul: 804\n"
     ]
    },
    {
     "name": "stderr",
     "output_type": "stream",
     "text": [
      " 21%|██        | 64/304 [12:09<45:03, 11.27s/it]"
     ]
    },
    {
     "name": "stdout",
     "output_type": "stream",
     "text": [
      "Komentar dari postingan ini: 12, Total komentar terkumpul: 816\n"
     ]
    },
    {
     "name": "stderr",
     "output_type": "stream",
     "text": [
      " 21%|██▏       | 65/304 [12:20<44:57, 11.29s/it]"
     ]
    },
    {
     "name": "stdout",
     "output_type": "stream",
     "text": [
      "Komentar dari postingan ini: 14, Total komentar terkumpul: 830\n"
     ]
    },
    {
     "name": "stderr",
     "output_type": "stream",
     "text": [
      " 22%|██▏       | 66/304 [12:32<44:57, 11.34s/it]"
     ]
    },
    {
     "name": "stdout",
     "output_type": "stream",
     "text": [
      "Komentar dari postingan ini: 12, Total komentar terkumpul: 842\n"
     ]
    },
    {
     "name": "stderr",
     "output_type": "stream",
     "text": [
      " 22%|██▏       | 67/304 [12:43<44:51, 11.36s/it]"
     ]
    },
    {
     "name": "stdout",
     "output_type": "stream",
     "text": [
      "Komentar dari postingan ini: 9, Total komentar terkumpul: 851\n"
     ]
    },
    {
     "name": "stderr",
     "output_type": "stream",
     "text": [
      " 22%|██▏       | 68/304 [12:54<44:44, 11.37s/it]"
     ]
    },
    {
     "name": "stdout",
     "output_type": "stream",
     "text": [
      "Komentar dari postingan ini: 15, Total komentar terkumpul: 866\n"
     ]
    },
    {
     "name": "stderr",
     "output_type": "stream",
     "text": [
      " 23%|██▎       | 69/304 [13:06<44:34, 11.38s/it]"
     ]
    },
    {
     "name": "stdout",
     "output_type": "stream",
     "text": [
      "Komentar dari postingan ini: 14, Total komentar terkumpul: 880\n"
     ]
    },
    {
     "name": "stderr",
     "output_type": "stream",
     "text": [
      " 23%|██▎       | 70/304 [13:17<44:16, 11.35s/it]"
     ]
    },
    {
     "name": "stdout",
     "output_type": "stream",
     "text": [
      "Komentar dari postingan ini: 12, Total komentar terkumpul: 892\n"
     ]
    },
    {
     "name": "stderr",
     "output_type": "stream",
     "text": [
      " 23%|██▎       | 71/304 [13:29<44:15, 11.40s/it]"
     ]
    },
    {
     "name": "stdout",
     "output_type": "stream",
     "text": [
      "Komentar dari postingan ini: 15, Total komentar terkumpul: 907\n"
     ]
    },
    {
     "name": "stderr",
     "output_type": "stream",
     "text": [
      " 24%|██▎       | 72/304 [13:40<44:13, 11.44s/it]"
     ]
    },
    {
     "name": "stdout",
     "output_type": "stream",
     "text": [
      "Komentar dari postingan ini: 14, Total komentar terkumpul: 921\n"
     ]
    },
    {
     "name": "stderr",
     "output_type": "stream",
     "text": [
      " 24%|██▍       | 73/304 [13:51<43:52, 11.39s/it]"
     ]
    },
    {
     "name": "stdout",
     "output_type": "stream",
     "text": [
      "Komentar dari postingan ini: 15, Total komentar terkumpul: 936\n"
     ]
    },
    {
     "name": "stderr",
     "output_type": "stream",
     "text": [
      " 24%|██▍       | 74/304 [14:03<43:52, 11.45s/it]"
     ]
    },
    {
     "name": "stdout",
     "output_type": "stream",
     "text": [
      "Komentar dari postingan ini: 13, Total komentar terkumpul: 949\n"
     ]
    },
    {
     "name": "stderr",
     "output_type": "stream",
     "text": [
      " 25%|██▍       | 75/304 [14:14<43:39, 11.44s/it]"
     ]
    },
    {
     "name": "stdout",
     "output_type": "stream",
     "text": [
      "Komentar dari postingan ini: 13, Total komentar terkumpul: 962\n"
     ]
    },
    {
     "name": "stderr",
     "output_type": "stream",
     "text": [
      " 25%|██▌       | 76/304 [14:26<43:24, 11.42s/it]"
     ]
    },
    {
     "name": "stdout",
     "output_type": "stream",
     "text": [
      "Komentar dari postingan ini: 12, Total komentar terkumpul: 974\n"
     ]
    },
    {
     "name": "stderr",
     "output_type": "stream",
     "text": [
      " 25%|██▌       | 77/304 [14:37<43:15, 11.43s/it]"
     ]
    },
    {
     "name": "stdout",
     "output_type": "stream",
     "text": [
      "Komentar dari postingan ini: 12, Total komentar terkumpul: 986\n"
     ]
    },
    {
     "name": "stderr",
     "output_type": "stream",
     "text": [
      " 26%|██▌       | 78/304 [14:48<42:50, 11.37s/it]"
     ]
    },
    {
     "name": "stdout",
     "output_type": "stream",
     "text": [
      "Komentar dari postingan ini: 15, Total komentar terkumpul: 1001\n"
     ]
    },
    {
     "name": "stderr",
     "output_type": "stream",
     "text": [
      " 26%|██▌       | 79/304 [15:00<42:24, 11.31s/it]"
     ]
    },
    {
     "name": "stdout",
     "output_type": "stream",
     "text": [
      "Komentar dari postingan ini: 8, Total komentar terkumpul: 1009\n"
     ]
    },
    {
     "name": "stderr",
     "output_type": "stream",
     "text": [
      " 26%|██▋       | 80/304 [15:11<42:03, 11.27s/it]"
     ]
    },
    {
     "name": "stdout",
     "output_type": "stream",
     "text": [
      "Komentar dari postingan ini: 12, Total komentar terkumpul: 1021\n"
     ]
    },
    {
     "name": "stderr",
     "output_type": "stream",
     "text": [
      " 27%|██▋       | 81/304 [15:22<41:55, 11.28s/it]"
     ]
    },
    {
     "name": "stdout",
     "output_type": "stream",
     "text": [
      "Komentar dari postingan ini: 15, Total komentar terkumpul: 1036\n"
     ]
    },
    {
     "name": "stderr",
     "output_type": "stream",
     "text": [
      " 27%|██▋       | 82/304 [15:33<41:30, 11.22s/it]"
     ]
    },
    {
     "name": "stdout",
     "output_type": "stream",
     "text": [
      "Komentar dari postingan ini: 12, Total komentar terkumpul: 1048\n"
     ]
    },
    {
     "name": "stderr",
     "output_type": "stream",
     "text": [
      " 27%|██▋       | 83/304 [15:44<41:22, 11.23s/it]"
     ]
    },
    {
     "name": "stdout",
     "output_type": "stream",
     "text": [
      "Komentar dari postingan ini: 13, Total komentar terkumpul: 1061\n"
     ]
    },
    {
     "name": "stderr",
     "output_type": "stream",
     "text": [
      " 28%|██▊       | 84/304 [15:56<41:19, 11.27s/it]"
     ]
    },
    {
     "name": "stdout",
     "output_type": "stream",
     "text": [
      "Komentar dari postingan ini: 14, Total komentar terkumpul: 1075\n"
     ]
    },
    {
     "name": "stderr",
     "output_type": "stream",
     "text": [
      " 28%|██▊       | 85/304 [16:07<41:11, 11.29s/it]"
     ]
    },
    {
     "name": "stdout",
     "output_type": "stream",
     "text": [
      "Komentar dari postingan ini: 13, Total komentar terkumpul: 1088\n"
     ]
    },
    {
     "name": "stderr",
     "output_type": "stream",
     "text": [
      " 28%|██▊       | 86/304 [16:18<40:42, 11.20s/it]"
     ]
    },
    {
     "name": "stdout",
     "output_type": "stream",
     "text": [
      "Komentar dari postingan ini: 15, Total komentar terkumpul: 1103\n"
     ]
    },
    {
     "name": "stderr",
     "output_type": "stream",
     "text": [
      " 29%|██▊       | 87/304 [16:29<40:35, 11.23s/it]"
     ]
    },
    {
     "name": "stdout",
     "output_type": "stream",
     "text": [
      "Komentar dari postingan ini: 15, Total komentar terkumpul: 1118\n"
     ]
    },
    {
     "name": "stderr",
     "output_type": "stream",
     "text": [
      " 29%|██▉       | 88/304 [16:41<40:25, 11.23s/it]"
     ]
    },
    {
     "name": "stdout",
     "output_type": "stream",
     "text": [
      "Komentar dari postingan ini: 13, Total komentar terkumpul: 1131\n"
     ]
    },
    {
     "name": "stderr",
     "output_type": "stream",
     "text": [
      " 29%|██▉       | 89/304 [16:53<41:11, 11.49s/it]"
     ]
    },
    {
     "name": "stdout",
     "output_type": "stream",
     "text": [
      "Komentar dari postingan ini: 15, Total komentar terkumpul: 1146\n"
     ]
    },
    {
     "name": "stderr",
     "output_type": "stream",
     "text": [
      " 30%|██▉       | 90/304 [17:04<40:39, 11.40s/it]"
     ]
    },
    {
     "name": "stdout",
     "output_type": "stream",
     "text": [
      "Komentar dari postingan ini: 15, Total komentar terkumpul: 1161\n"
     ]
    },
    {
     "name": "stderr",
     "output_type": "stream",
     "text": [
      " 30%|██▉       | 91/304 [17:15<40:15, 11.34s/it]"
     ]
    },
    {
     "name": "stdout",
     "output_type": "stream",
     "text": [
      "Komentar dari postingan ini: 12, Total komentar terkumpul: 1173\n"
     ]
    },
    {
     "name": "stderr",
     "output_type": "stream",
     "text": [
      " 30%|███       | 92/304 [17:26<39:51, 11.28s/it]"
     ]
    },
    {
     "name": "stdout",
     "output_type": "stream",
     "text": [
      "Komentar dari postingan ini: 14, Total komentar terkumpul: 1187\n"
     ]
    },
    {
     "name": "stderr",
     "output_type": "stream",
     "text": [
      " 31%|███       | 93/304 [17:37<39:36, 11.26s/it]"
     ]
    },
    {
     "name": "stdout",
     "output_type": "stream",
     "text": [
      "Komentar dari postingan ini: 9, Total komentar terkumpul: 1196\n"
     ]
    },
    {
     "name": "stderr",
     "output_type": "stream",
     "text": [
      " 31%|███       | 94/304 [17:49<39:17, 11.23s/it]"
     ]
    },
    {
     "name": "stdout",
     "output_type": "stream",
     "text": [
      "Komentar dari postingan ini: 13, Total komentar terkumpul: 1209\n"
     ]
    },
    {
     "name": "stderr",
     "output_type": "stream",
     "text": [
      " 31%|███▏      | 95/304 [18:00<38:58, 11.19s/it]"
     ]
    },
    {
     "name": "stdout",
     "output_type": "stream",
     "text": [
      "Komentar dari postingan ini: 13, Total komentar terkumpul: 1222\n"
     ]
    },
    {
     "name": "stderr",
     "output_type": "stream",
     "text": [
      " 32%|███▏      | 96/304 [18:11<38:50, 11.21s/it]"
     ]
    },
    {
     "name": "stdout",
     "output_type": "stream",
     "text": [
      "Komentar dari postingan ini: 13, Total komentar terkumpul: 1235\n"
     ]
    },
    {
     "name": "stderr",
     "output_type": "stream",
     "text": [
      " 32%|███▏      | 97/304 [18:22<38:53, 11.27s/it]"
     ]
    },
    {
     "name": "stdout",
     "output_type": "stream",
     "text": [
      "Komentar dari postingan ini: 13, Total komentar terkumpul: 1248\n"
     ]
    },
    {
     "name": "stderr",
     "output_type": "stream",
     "text": [
      " 32%|███▏      | 98/304 [18:34<38:46, 11.29s/it]"
     ]
    },
    {
     "name": "stdout",
     "output_type": "stream",
     "text": [
      "Komentar dari postingan ini: 9, Total komentar terkumpul: 1257\n"
     ]
    },
    {
     "name": "stderr",
     "output_type": "stream",
     "text": [
      " 33%|███▎      | 99/304 [18:45<38:31, 11.28s/it]"
     ]
    },
    {
     "name": "stdout",
     "output_type": "stream",
     "text": [
      "Komentar dari postingan ini: 11, Total komentar terkumpul: 1268\n"
     ]
    },
    {
     "name": "stderr",
     "output_type": "stream",
     "text": [
      " 33%|███▎      | 100/304 [18:56<38:20, 11.28s/it]"
     ]
    },
    {
     "name": "stdout",
     "output_type": "stream",
     "text": [
      "Komentar dari postingan ini: 6, Total komentar terkumpul: 1274\n"
     ]
    },
    {
     "name": "stderr",
     "output_type": "stream",
     "text": [
      " 33%|███▎      | 101/304 [19:08<38:06, 11.26s/it]"
     ]
    },
    {
     "name": "stdout",
     "output_type": "stream",
     "text": [
      "Komentar dari postingan ini: 14, Total komentar terkumpul: 1288\n"
     ]
    },
    {
     "name": "stderr",
     "output_type": "stream",
     "text": [
      " 34%|███▎      | 102/304 [19:19<37:48, 11.23s/it]"
     ]
    },
    {
     "name": "stdout",
     "output_type": "stream",
     "text": [
      "Komentar dari postingan ini: 15, Total komentar terkumpul: 1303\n"
     ]
    },
    {
     "name": "stderr",
     "output_type": "stream",
     "text": [
      " 34%|███▍      | 103/304 [19:30<37:26, 11.18s/it]"
     ]
    },
    {
     "name": "stdout",
     "output_type": "stream",
     "text": [
      "Komentar dari postingan ini: 13, Total komentar terkumpul: 1316\n"
     ]
    },
    {
     "name": "stderr",
     "output_type": "stream",
     "text": [
      " 34%|███▍      | 104/304 [19:41<37:14, 11.17s/it]"
     ]
    },
    {
     "name": "stdout",
     "output_type": "stream",
     "text": [
      "Komentar dari postingan ini: 14, Total komentar terkumpul: 1330\n"
     ]
    },
    {
     "name": "stderr",
     "output_type": "stream",
     "text": [
      " 35%|███▍      | 105/304 [19:52<37:06, 11.19s/it]"
     ]
    },
    {
     "name": "stdout",
     "output_type": "stream",
     "text": [
      "Komentar dari postingan ini: 9, Total komentar terkumpul: 1339\n"
     ]
    },
    {
     "name": "stderr",
     "output_type": "stream",
     "text": [
      " 35%|███▍      | 106/304 [20:03<36:57, 11.20s/it]"
     ]
    },
    {
     "name": "stdout",
     "output_type": "stream",
     "text": [
      "Komentar dari postingan ini: 12, Total komentar terkumpul: 1351\n"
     ]
    },
    {
     "name": "stderr",
     "output_type": "stream",
     "text": [
      " 35%|███▌      | 107/304 [20:15<36:46, 11.20s/it]"
     ]
    },
    {
     "name": "stdout",
     "output_type": "stream",
     "text": [
      "Komentar dari postingan ini: 10, Total komentar terkumpul: 1361\n"
     ]
    },
    {
     "name": "stderr",
     "output_type": "stream",
     "text": [
      " 36%|███▌      | 108/304 [20:26<36:42, 11.24s/it]"
     ]
    },
    {
     "name": "stdout",
     "output_type": "stream",
     "text": [
      "Komentar dari postingan ini: 8, Total komentar terkumpul: 1369\n"
     ]
    },
    {
     "name": "stderr",
     "output_type": "stream",
     "text": [
      " 36%|███▌      | 109/304 [20:37<36:47, 11.32s/it]"
     ]
    },
    {
     "name": "stdout",
     "output_type": "stream",
     "text": [
      "Komentar dari postingan ini: 13, Total komentar terkumpul: 1382\n"
     ]
    },
    {
     "name": "stderr",
     "output_type": "stream",
     "text": [
      " 36%|███▌      | 110/304 [20:49<36:38, 11.33s/it]"
     ]
    },
    {
     "name": "stdout",
     "output_type": "stream",
     "text": [
      "Komentar dari postingan ini: 13, Total komentar terkumpul: 1395\n"
     ]
    },
    {
     "name": "stderr",
     "output_type": "stream",
     "text": [
      " 37%|███▋      | 111/304 [21:00<36:35, 11.37s/it]"
     ]
    },
    {
     "name": "stdout",
     "output_type": "stream",
     "text": [
      "Komentar dari postingan ini: 10, Total komentar terkumpul: 1405\n"
     ]
    },
    {
     "name": "stderr",
     "output_type": "stream",
     "text": [
      " 37%|███▋      | 112/304 [21:12<36:25, 11.39s/it]"
     ]
    },
    {
     "name": "stdout",
     "output_type": "stream",
     "text": [
      "Komentar dari postingan ini: 15, Total komentar terkumpul: 1420\n"
     ]
    },
    {
     "name": "stderr",
     "output_type": "stream",
     "text": [
      " 37%|███▋      | 113/304 [21:23<36:08, 11.35s/it]"
     ]
    },
    {
     "name": "stdout",
     "output_type": "stream",
     "text": [
      "Komentar dari postingan ini: 13, Total komentar terkumpul: 1433\n"
     ]
    },
    {
     "name": "stderr",
     "output_type": "stream",
     "text": [
      " 38%|███▊      | 114/304 [21:34<35:41, 11.27s/it]"
     ]
    },
    {
     "name": "stdout",
     "output_type": "stream",
     "text": [
      "Komentar dari postingan ini: 13, Total komentar terkumpul: 1446\n"
     ]
    },
    {
     "name": "stderr",
     "output_type": "stream",
     "text": [
      " 38%|███▊      | 115/304 [21:45<35:27, 11.26s/it]"
     ]
    },
    {
     "name": "stdout",
     "output_type": "stream",
     "text": [
      "Komentar dari postingan ini: 10, Total komentar terkumpul: 1456\n"
     ]
    },
    {
     "name": "stderr",
     "output_type": "stream",
     "text": [
      " 38%|███▊      | 116/304 [21:56<35:04, 11.20s/it]"
     ]
    },
    {
     "name": "stdout",
     "output_type": "stream",
     "text": [
      "Komentar dari postingan ini: 15, Total komentar terkumpul: 1471\n"
     ]
    },
    {
     "name": "stderr",
     "output_type": "stream",
     "text": [
      " 38%|███▊      | 117/304 [22:08<35:34, 11.41s/it]"
     ]
    },
    {
     "name": "stdout",
     "output_type": "stream",
     "text": [
      "Komentar dari postingan ini: 11, Total komentar terkumpul: 1482\n"
     ]
    },
    {
     "name": "stderr",
     "output_type": "stream",
     "text": [
      " 39%|███▉      | 118/304 [22:19<35:09, 11.34s/it]"
     ]
    },
    {
     "name": "stdout",
     "output_type": "stream",
     "text": [
      "Komentar dari postingan ini: 15, Total komentar terkumpul: 1497\n"
     ]
    },
    {
     "name": "stderr",
     "output_type": "stream",
     "text": [
      " 39%|███▉      | 119/304 [22:31<34:53, 11.32s/it]"
     ]
    },
    {
     "name": "stdout",
     "output_type": "stream",
     "text": [
      "Komentar dari postingan ini: 15, Total komentar terkumpul: 1512\n"
     ]
    },
    {
     "name": "stderr",
     "output_type": "stream",
     "text": [
      " 39%|███▉      | 120/304 [22:42<34:48, 11.35s/it]"
     ]
    },
    {
     "name": "stdout",
     "output_type": "stream",
     "text": [
      "Komentar dari postingan ini: 14, Total komentar terkumpul: 1526\n"
     ]
    },
    {
     "name": "stderr",
     "output_type": "stream",
     "text": [
      " 40%|███▉      | 121/304 [22:53<34:35, 11.34s/it]"
     ]
    },
    {
     "name": "stdout",
     "output_type": "stream",
     "text": [
      "Komentar dari postingan ini: 14, Total komentar terkumpul: 1540\n"
     ]
    },
    {
     "name": "stderr",
     "output_type": "stream",
     "text": [
      " 40%|████      | 122/304 [23:05<34:18, 11.31s/it]"
     ]
    },
    {
     "name": "stdout",
     "output_type": "stream",
     "text": [
      "Komentar dari postingan ini: 12, Total komentar terkumpul: 1552\n"
     ]
    },
    {
     "name": "stderr",
     "output_type": "stream",
     "text": [
      " 40%|████      | 123/304 [23:16<34:00, 11.28s/it]"
     ]
    },
    {
     "name": "stdout",
     "output_type": "stream",
     "text": [
      "Komentar dari postingan ini: 11, Total komentar terkumpul: 1563\n"
     ]
    },
    {
     "name": "stderr",
     "output_type": "stream",
     "text": [
      " 41%|████      | 124/304 [23:27<33:50, 11.28s/it]"
     ]
    },
    {
     "name": "stdout",
     "output_type": "stream",
     "text": [
      "Komentar dari postingan ini: 15, Total komentar terkumpul: 1578\n"
     ]
    },
    {
     "name": "stderr",
     "output_type": "stream",
     "text": [
      " 41%|████      | 125/304 [23:38<33:41, 11.29s/it]"
     ]
    },
    {
     "name": "stdout",
     "output_type": "stream",
     "text": [
      "Komentar dari postingan ini: 13, Total komentar terkumpul: 1591\n"
     ]
    },
    {
     "name": "stderr",
     "output_type": "stream",
     "text": [
      " 41%|████▏     | 126/304 [23:50<33:23, 11.26s/it]"
     ]
    },
    {
     "name": "stdout",
     "output_type": "stream",
     "text": [
      "Komentar dari postingan ini: 10, Total komentar terkumpul: 1601\n"
     ]
    },
    {
     "name": "stderr",
     "output_type": "stream",
     "text": [
      " 42%|████▏     | 127/304 [24:01<33:12, 11.26s/it]"
     ]
    },
    {
     "name": "stdout",
     "output_type": "stream",
     "text": [
      "Komentar dari postingan ini: 15, Total komentar terkumpul: 1616\n"
     ]
    },
    {
     "name": "stderr",
     "output_type": "stream",
     "text": [
      " 42%|████▏     | 128/304 [24:12<33:04, 11.28s/it]"
     ]
    },
    {
     "name": "stdout",
     "output_type": "stream",
     "text": [
      "Komentar dari postingan ini: 13, Total komentar terkumpul: 1629\n"
     ]
    },
    {
     "name": "stderr",
     "output_type": "stream",
     "text": [
      " 42%|████▏     | 129/304 [24:23<32:46, 11.24s/it]"
     ]
    },
    {
     "name": "stdout",
     "output_type": "stream",
     "text": [
      "Komentar dari postingan ini: 15, Total komentar terkumpul: 1644\n"
     ]
    },
    {
     "name": "stderr",
     "output_type": "stream",
     "text": [
      " 43%|████▎     | 130/304 [24:35<32:58, 11.37s/it]"
     ]
    },
    {
     "name": "stdout",
     "output_type": "stream",
     "text": [
      "Komentar dari postingan ini: 15, Total komentar terkumpul: 1659\n"
     ]
    },
    {
     "name": "stderr",
     "output_type": "stream",
     "text": [
      " 43%|████▎     | 131/304 [24:46<32:43, 11.35s/it]"
     ]
    },
    {
     "name": "stdout",
     "output_type": "stream",
     "text": [
      "Komentar dari postingan ini: 15, Total komentar terkumpul: 1674\n"
     ]
    },
    {
     "name": "stderr",
     "output_type": "stream",
     "text": [
      " 43%|████▎     | 132/304 [24:58<32:27, 11.32s/it]"
     ]
    },
    {
     "name": "stdout",
     "output_type": "stream",
     "text": [
      "Komentar dari postingan ini: 14, Total komentar terkumpul: 1688\n"
     ]
    },
    {
     "name": "stderr",
     "output_type": "stream",
     "text": [
      " 44%|████▍     | 133/304 [25:09<32:20, 11.35s/it]"
     ]
    },
    {
     "name": "stdout",
     "output_type": "stream",
     "text": [
      "Komentar dari postingan ini: 11, Total komentar terkumpul: 1699\n"
     ]
    },
    {
     "name": "stderr",
     "output_type": "stream",
     "text": [
      " 44%|████▍     | 134/304 [25:21<32:25, 11.44s/it]"
     ]
    },
    {
     "name": "stdout",
     "output_type": "stream",
     "text": [
      "Komentar dari postingan ini: 13, Total komentar terkumpul: 1712\n"
     ]
    },
    {
     "name": "stderr",
     "output_type": "stream",
     "text": [
      " 44%|████▍     | 135/304 [25:32<32:04, 11.39s/it]"
     ]
    },
    {
     "name": "stdout",
     "output_type": "stream",
     "text": [
      "Komentar dari postingan ini: 13, Total komentar terkumpul: 1725\n"
     ]
    },
    {
     "name": "stderr",
     "output_type": "stream",
     "text": [
      " 45%|████▍     | 136/304 [25:43<31:47, 11.35s/it]"
     ]
    },
    {
     "name": "stdout",
     "output_type": "stream",
     "text": [
      "Komentar dari postingan ini: 15, Total komentar terkumpul: 1740\n"
     ]
    },
    {
     "name": "stderr",
     "output_type": "stream",
     "text": [
      " 45%|████▌     | 137/304 [25:54<31:27, 11.30s/it]"
     ]
    },
    {
     "name": "stdout",
     "output_type": "stream",
     "text": [
      "Komentar dari postingan ini: 13, Total komentar terkumpul: 1753\n"
     ]
    },
    {
     "name": "stderr",
     "output_type": "stream",
     "text": [
      " 45%|████▌     | 138/304 [26:06<31:23, 11.34s/it]"
     ]
    },
    {
     "name": "stdout",
     "output_type": "stream",
     "text": [
      "Komentar dari postingan ini: 13, Total komentar terkumpul: 1766\n"
     ]
    },
    {
     "name": "stderr",
     "output_type": "stream",
     "text": [
      " 46%|████▌     | 139/304 [26:17<31:25, 11.43s/it]"
     ]
    },
    {
     "name": "stdout",
     "output_type": "stream",
     "text": [
      "Komentar dari postingan ini: 15, Total komentar terkumpul: 1781\n"
     ]
    },
    {
     "name": "stderr",
     "output_type": "stream",
     "text": [
      " 46%|████▌     | 140/304 [26:29<31:01, 11.35s/it]"
     ]
    },
    {
     "name": "stdout",
     "output_type": "stream",
     "text": [
      "Komentar dari postingan ini: 11, Total komentar terkumpul: 1792\n"
     ]
    },
    {
     "name": "stderr",
     "output_type": "stream",
     "text": [
      " 46%|████▋     | 141/304 [26:40<30:44, 11.32s/it]"
     ]
    },
    {
     "name": "stdout",
     "output_type": "stream",
     "text": [
      "Komentar dari postingan ini: 15, Total komentar terkumpul: 1807\n"
     ]
    },
    {
     "name": "stderr",
     "output_type": "stream",
     "text": [
      " 47%|████▋     | 142/304 [26:51<30:30, 11.30s/it]"
     ]
    },
    {
     "name": "stdout",
     "output_type": "stream",
     "text": [
      "Komentar dari postingan ini: 10, Total komentar terkumpul: 1817\n"
     ]
    },
    {
     "name": "stderr",
     "output_type": "stream",
     "text": [
      " 47%|████▋     | 143/304 [27:02<30:18, 11.30s/it]"
     ]
    },
    {
     "name": "stdout",
     "output_type": "stream",
     "text": [
      "Komentar dari postingan ini: 13, Total komentar terkumpul: 1830\n"
     ]
    },
    {
     "name": "stderr",
     "output_type": "stream",
     "text": [
      " 47%|████▋     | 144/304 [27:13<29:54, 11.22s/it]"
     ]
    },
    {
     "name": "stdout",
     "output_type": "stream",
     "text": [
      "Komentar dari postingan ini: 11, Total komentar terkumpul: 1841\n"
     ]
    },
    {
     "name": "stderr",
     "output_type": "stream",
     "text": [
      " 48%|████▊     | 145/304 [27:25<29:41, 11.20s/it]"
     ]
    },
    {
     "name": "stdout",
     "output_type": "stream",
     "text": [
      "Komentar dari postingan ini: 13, Total komentar terkumpul: 1854\n"
     ]
    },
    {
     "name": "stderr",
     "output_type": "stream",
     "text": [
      " 48%|████▊     | 146/304 [27:36<29:33, 11.22s/it]"
     ]
    },
    {
     "name": "stdout",
     "output_type": "stream",
     "text": [
      "Komentar dari postingan ini: 14, Total komentar terkumpul: 1868\n"
     ]
    },
    {
     "name": "stderr",
     "output_type": "stream",
     "text": [
      " 48%|████▊     | 147/304 [27:47<29:34, 11.31s/it]"
     ]
    },
    {
     "name": "stdout",
     "output_type": "stream",
     "text": [
      "Komentar dari postingan ini: 14, Total komentar terkumpul: 1882\n"
     ]
    },
    {
     "name": "stderr",
     "output_type": "stream",
     "text": [
      " 49%|████▊     | 148/304 [27:59<29:31, 11.36s/it]"
     ]
    },
    {
     "name": "stdout",
     "output_type": "stream",
     "text": [
      "Komentar dari postingan ini: 14, Total komentar terkumpul: 1896\n"
     ]
    },
    {
     "name": "stderr",
     "output_type": "stream",
     "text": [
      " 49%|████▉     | 149/304 [28:10<29:22, 11.37s/it]"
     ]
    },
    {
     "name": "stdout",
     "output_type": "stream",
     "text": [
      "Komentar dari postingan ini: 14, Total komentar terkumpul: 1910\n"
     ]
    },
    {
     "name": "stderr",
     "output_type": "stream",
     "text": [
      " 49%|████▉     | 150/304 [28:22<29:09, 11.36s/it]"
     ]
    },
    {
     "name": "stdout",
     "output_type": "stream",
     "text": [
      "Komentar dari postingan ini: 14, Total komentar terkumpul: 1924\n"
     ]
    },
    {
     "name": "stderr",
     "output_type": "stream",
     "text": [
      " 50%|████▉     | 151/304 [28:33<28:54, 11.33s/it]"
     ]
    },
    {
     "name": "stdout",
     "output_type": "stream",
     "text": [
      "Komentar dari postingan ini: 8, Total komentar terkumpul: 1932\n"
     ]
    },
    {
     "name": "stderr",
     "output_type": "stream",
     "text": [
      " 50%|█████     | 152/304 [28:44<28:35, 11.28s/it]"
     ]
    },
    {
     "name": "stdout",
     "output_type": "stream",
     "text": [
      "Komentar dari postingan ini: 9, Total komentar terkumpul: 1941\n"
     ]
    },
    {
     "name": "stderr",
     "output_type": "stream",
     "text": [
      " 50%|█████     | 153/304 [28:55<28:17, 11.24s/it]"
     ]
    },
    {
     "name": "stdout",
     "output_type": "stream",
     "text": [
      "Komentar dari postingan ini: 14, Total komentar terkumpul: 1955\n"
     ]
    },
    {
     "name": "stderr",
     "output_type": "stream",
     "text": [
      " 51%|█████     | 154/304 [29:06<28:05, 11.24s/it]"
     ]
    },
    {
     "name": "stdout",
     "output_type": "stream",
     "text": [
      "Komentar dari postingan ini: 13, Total komentar terkumpul: 1968\n"
     ]
    },
    {
     "name": "stderr",
     "output_type": "stream",
     "text": [
      " 51%|█████     | 155/304 [29:18<27:55, 11.25s/it]"
     ]
    },
    {
     "name": "stdout",
     "output_type": "stream",
     "text": [
      "Komentar dari postingan ini: 14, Total komentar terkumpul: 1982\n"
     ]
    },
    {
     "name": "stderr",
     "output_type": "stream",
     "text": [
      " 51%|█████▏    | 156/304 [29:29<27:46, 11.26s/it]"
     ]
    },
    {
     "name": "stdout",
     "output_type": "stream",
     "text": [
      "Komentar dari postingan ini: 12, Total komentar terkumpul: 1994\n"
     ]
    },
    {
     "name": "stderr",
     "output_type": "stream",
     "text": [
      " 52%|█████▏    | 157/304 [29:40<27:33, 11.25s/it]"
     ]
    },
    {
     "name": "stdout",
     "output_type": "stream",
     "text": [
      "Komentar dari postingan ini: 13, Total komentar terkumpul: 2007\n"
     ]
    },
    {
     "name": "stderr",
     "output_type": "stream",
     "text": [
      " 52%|█████▏    | 158/304 [29:51<27:23, 11.26s/it]"
     ]
    },
    {
     "name": "stdout",
     "output_type": "stream",
     "text": [
      "Komentar dari postingan ini: 10, Total komentar terkumpul: 2017\n"
     ]
    },
    {
     "name": "stderr",
     "output_type": "stream",
     "text": [
      " 52%|█████▏    | 159/304 [30:02<27:02, 11.19s/it]"
     ]
    },
    {
     "name": "stdout",
     "output_type": "stream",
     "text": [
      "Komentar dari postingan ini: 15, Total komentar terkumpul: 2032\n"
     ]
    },
    {
     "name": "stderr",
     "output_type": "stream",
     "text": [
      " 53%|█████▎    | 160/304 [30:14<26:50, 11.19s/it]"
     ]
    },
    {
     "name": "stdout",
     "output_type": "stream",
     "text": [
      "Komentar dari postingan ini: 12, Total komentar terkumpul: 2044\n"
     ]
    },
    {
     "name": "stderr",
     "output_type": "stream",
     "text": [
      " 53%|█████▎    | 161/304 [30:25<26:47, 11.24s/it]"
     ]
    },
    {
     "name": "stdout",
     "output_type": "stream",
     "text": [
      "Komentar dari postingan ini: 15, Total komentar terkumpul: 2059\n"
     ]
    },
    {
     "name": "stderr",
     "output_type": "stream",
     "text": [
      " 53%|█████▎    | 162/304 [30:36<26:44, 11.30s/it]"
     ]
    },
    {
     "name": "stdout",
     "output_type": "stream",
     "text": [
      "Komentar dari postingan ini: 12, Total komentar terkumpul: 2071\n"
     ]
    },
    {
     "name": "stderr",
     "output_type": "stream",
     "text": [
      " 54%|█████▎    | 163/304 [30:48<26:38, 11.33s/it]"
     ]
    },
    {
     "name": "stdout",
     "output_type": "stream",
     "text": [
      "Komentar dari postingan ini: 10, Total komentar terkumpul: 2081\n"
     ]
    },
    {
     "name": "stderr",
     "output_type": "stream",
     "text": [
      " 54%|█████▍    | 164/304 [30:59<26:20, 11.29s/it]"
     ]
    },
    {
     "name": "stdout",
     "output_type": "stream",
     "text": [
      "Komentar dari postingan ini: 14, Total komentar terkumpul: 2095\n"
     ]
    },
    {
     "name": "stderr",
     "output_type": "stream",
     "text": [
      " 54%|█████▍    | 165/304 [31:10<26:05, 11.26s/it]"
     ]
    },
    {
     "name": "stdout",
     "output_type": "stream",
     "text": [
      "Komentar dari postingan ini: 15, Total komentar terkumpul: 2110\n"
     ]
    },
    {
     "name": "stderr",
     "output_type": "stream",
     "text": [
      " 55%|█████▍    | 166/304 [31:22<25:56, 11.28s/it]"
     ]
    },
    {
     "name": "stdout",
     "output_type": "stream",
     "text": [
      "Komentar dari postingan ini: 13, Total komentar terkumpul: 2123\n"
     ]
    },
    {
     "name": "stderr",
     "output_type": "stream",
     "text": [
      " 55%|█████▍    | 167/304 [31:33<25:43, 11.27s/it]"
     ]
    },
    {
     "name": "stdout",
     "output_type": "stream",
     "text": [
      "Komentar dari postingan ini: 12, Total komentar terkumpul: 2135\n"
     ]
    },
    {
     "name": "stderr",
     "output_type": "stream",
     "text": [
      " 55%|█████▌    | 168/304 [31:44<25:40, 11.33s/it]"
     ]
    },
    {
     "name": "stdout",
     "output_type": "stream",
     "text": [
      "Komentar dari postingan ini: 14, Total komentar terkumpul: 2149\n"
     ]
    },
    {
     "name": "stderr",
     "output_type": "stream",
     "text": [
      " 56%|█████▌    | 169/304 [31:55<25:21, 11.27s/it]"
     ]
    },
    {
     "name": "stdout",
     "output_type": "stream",
     "text": [
      "Komentar dari postingan ini: 15, Total komentar terkumpul: 2164\n"
     ]
    },
    {
     "name": "stderr",
     "output_type": "stream",
     "text": [
      " 56%|█████▌    | 170/304 [32:07<25:22, 11.36s/it]"
     ]
    },
    {
     "name": "stdout",
     "output_type": "stream",
     "text": [
      "Komentar dari postingan ini: 13, Total komentar terkumpul: 2177\n"
     ]
    },
    {
     "name": "stderr",
     "output_type": "stream",
     "text": [
      " 56%|█████▋    | 171/304 [32:18<25:05, 11.32s/it]"
     ]
    },
    {
     "name": "stdout",
     "output_type": "stream",
     "text": [
      "Komentar dari postingan ini: 7, Total komentar terkumpul: 2184\n"
     ]
    },
    {
     "name": "stderr",
     "output_type": "stream",
     "text": [
      " 57%|█████▋    | 172/304 [32:29<24:53, 11.32s/it]"
     ]
    },
    {
     "name": "stdout",
     "output_type": "stream",
     "text": [
      "Komentar dari postingan ini: 15, Total komentar terkumpul: 2199\n"
     ]
    },
    {
     "name": "stderr",
     "output_type": "stream",
     "text": [
      " 57%|█████▋    | 173/304 [32:41<24:50, 11.38s/it]"
     ]
    },
    {
     "name": "stdout",
     "output_type": "stream",
     "text": [
      "Komentar dari postingan ini: 13, Total komentar terkumpul: 2212\n"
     ]
    },
    {
     "name": "stderr",
     "output_type": "stream",
     "text": [
      " 57%|█████▋    | 174/304 [32:52<24:33, 11.34s/it]"
     ]
    },
    {
     "name": "stdout",
     "output_type": "stream",
     "text": [
      "Komentar dari postingan ini: 15, Total komentar terkumpul: 2227\n"
     ]
    },
    {
     "name": "stderr",
     "output_type": "stream",
     "text": [
      " 58%|█████▊    | 175/304 [33:04<24:29, 11.39s/it]"
     ]
    },
    {
     "name": "stdout",
     "output_type": "stream",
     "text": [
      "Komentar dari postingan ini: 10, Total komentar terkumpul: 2237\n"
     ]
    },
    {
     "name": "stderr",
     "output_type": "stream",
     "text": [
      " 58%|█████▊    | 176/304 [33:15<24:14, 11.36s/it]"
     ]
    },
    {
     "name": "stdout",
     "output_type": "stream",
     "text": [
      "Komentar dari postingan ini: 14, Total komentar terkumpul: 2251\n"
     ]
    },
    {
     "name": "stderr",
     "output_type": "stream",
     "text": [
      " 58%|█████▊    | 177/304 [33:26<23:59, 11.34s/it]"
     ]
    },
    {
     "name": "stdout",
     "output_type": "stream",
     "text": [
      "Komentar dari postingan ini: 14, Total komentar terkumpul: 2265\n"
     ]
    },
    {
     "name": "stderr",
     "output_type": "stream",
     "text": [
      " 59%|█████▊    | 178/304 [33:38<23:42, 11.29s/it]"
     ]
    },
    {
     "name": "stdout",
     "output_type": "stream",
     "text": [
      "Komentar dari postingan ini: 13, Total komentar terkumpul: 2278\n"
     ]
    },
    {
     "name": "stderr",
     "output_type": "stream",
     "text": [
      " 59%|█████▉    | 179/304 [33:49<23:29, 11.28s/it]"
     ]
    },
    {
     "name": "stdout",
     "output_type": "stream",
     "text": [
      "Komentar dari postingan ini: 15, Total komentar terkumpul: 2293\n"
     ]
    },
    {
     "name": "stderr",
     "output_type": "stream",
     "text": [
      " 59%|█████▉    | 180/304 [34:00<23:18, 11.27s/it]"
     ]
    },
    {
     "name": "stdout",
     "output_type": "stream",
     "text": [
      "Komentar dari postingan ini: 13, Total komentar terkumpul: 2306\n"
     ]
    },
    {
     "name": "stderr",
     "output_type": "stream",
     "text": [
      " 60%|█████▉    | 181/304 [34:12<23:15, 11.35s/it]"
     ]
    },
    {
     "name": "stdout",
     "output_type": "stream",
     "text": [
      "Komentar dari postingan ini: 12, Total komentar terkumpul: 2318\n"
     ]
    },
    {
     "name": "stderr",
     "output_type": "stream",
     "text": [
      " 60%|█████▉    | 182/304 [34:23<23:04, 11.35s/it]"
     ]
    },
    {
     "name": "stdout",
     "output_type": "stream",
     "text": [
      "Komentar dari postingan ini: 14, Total komentar terkumpul: 2332\n"
     ]
    },
    {
     "name": "stderr",
     "output_type": "stream",
     "text": [
      " 60%|██████    | 183/304 [34:34<22:54, 11.36s/it]"
     ]
    },
    {
     "name": "stdout",
     "output_type": "stream",
     "text": [
      "Komentar dari postingan ini: 13, Total komentar terkumpul: 2345\n"
     ]
    },
    {
     "name": "stderr",
     "output_type": "stream",
     "text": [
      " 61%|██████    | 184/304 [34:45<22:36, 11.31s/it]"
     ]
    },
    {
     "name": "stdout",
     "output_type": "stream",
     "text": [
      "Komentar dari postingan ini: 15, Total komentar terkumpul: 2360\n"
     ]
    },
    {
     "name": "stderr",
     "output_type": "stream",
     "text": [
      " 61%|██████    | 185/304 [34:57<22:20, 11.26s/it]"
     ]
    },
    {
     "name": "stdout",
     "output_type": "stream",
     "text": [
      "Komentar dari postingan ini: 13, Total komentar terkumpul: 2373\n"
     ]
    },
    {
     "name": "stderr",
     "output_type": "stream",
     "text": [
      " 61%|██████    | 186/304 [35:08<22:10, 11.27s/it]"
     ]
    },
    {
     "name": "stdout",
     "output_type": "stream",
     "text": [
      "Komentar dari postingan ini: 11, Total komentar terkumpul: 2384\n"
     ]
    },
    {
     "name": "stderr",
     "output_type": "stream",
     "text": [
      " 62%|██████▏   | 187/304 [35:19<22:02, 11.31s/it]"
     ]
    },
    {
     "name": "stdout",
     "output_type": "stream",
     "text": [
      "Komentar dari postingan ini: 13, Total komentar terkumpul: 2397\n"
     ]
    },
    {
     "name": "stderr",
     "output_type": "stream",
     "text": [
      " 62%|██████▏   | 188/304 [35:31<21:50, 11.30s/it]"
     ]
    },
    {
     "name": "stdout",
     "output_type": "stream",
     "text": [
      "Komentar dari postingan ini: 13, Total komentar terkumpul: 2410\n"
     ]
    },
    {
     "name": "stderr",
     "output_type": "stream",
     "text": [
      " 62%|██████▏   | 189/304 [35:42<21:38, 11.29s/it]"
     ]
    },
    {
     "name": "stdout",
     "output_type": "stream",
     "text": [
      "Komentar dari postingan ini: 15, Total komentar terkumpul: 2425\n"
     ]
    },
    {
     "name": "stderr",
     "output_type": "stream",
     "text": [
      " 62%|██████▎   | 190/304 [35:53<21:26, 11.29s/it]"
     ]
    },
    {
     "name": "stdout",
     "output_type": "stream",
     "text": [
      "Komentar dari postingan ini: 12, Total komentar terkumpul: 2437\n"
     ]
    },
    {
     "name": "stderr",
     "output_type": "stream",
     "text": [
      " 63%|██████▎   | 191/304 [36:05<21:17, 11.31s/it]"
     ]
    },
    {
     "name": "stdout",
     "output_type": "stream",
     "text": [
      "Komentar dari postingan ini: 14, Total komentar terkumpul: 2451\n"
     ]
    },
    {
     "name": "stderr",
     "output_type": "stream",
     "text": [
      " 63%|██████▎   | 192/304 [36:16<21:08, 11.32s/it]"
     ]
    },
    {
     "name": "stdout",
     "output_type": "stream",
     "text": [
      "Komentar dari postingan ini: 15, Total komentar terkumpul: 2466\n"
     ]
    },
    {
     "name": "stderr",
     "output_type": "stream",
     "text": [
      " 63%|██████▎   | 193/304 [36:27<21:01, 11.36s/it]"
     ]
    },
    {
     "name": "stdout",
     "output_type": "stream",
     "text": [
      "Komentar dari postingan ini: 10, Total komentar terkumpul: 2476\n"
     ]
    },
    {
     "name": "stderr",
     "output_type": "stream",
     "text": [
      " 64%|██████▍   | 194/304 [36:39<20:46, 11.33s/it]"
     ]
    },
    {
     "name": "stdout",
     "output_type": "stream",
     "text": [
      "Komentar dari postingan ini: 13, Total komentar terkumpul: 2489\n"
     ]
    },
    {
     "name": "stderr",
     "output_type": "stream",
     "text": [
      " 64%|██████▍   | 195/304 [36:50<20:35, 11.33s/it]"
     ]
    },
    {
     "name": "stdout",
     "output_type": "stream",
     "text": [
      "Komentar dari postingan ini: 15, Total komentar terkumpul: 2504\n"
     ]
    },
    {
     "name": "stderr",
     "output_type": "stream",
     "text": [
      " 64%|██████▍   | 196/304 [37:01<20:20, 11.30s/it]"
     ]
    },
    {
     "name": "stdout",
     "output_type": "stream",
     "text": [
      "Komentar dari postingan ini: 11, Total komentar terkumpul: 2515\n"
     ]
    },
    {
     "name": "stderr",
     "output_type": "stream",
     "text": [
      " 65%|██████▍   | 197/304 [37:12<20:07, 11.29s/it]"
     ]
    },
    {
     "name": "stdout",
     "output_type": "stream",
     "text": [
      "Komentar dari postingan ini: 14, Total komentar terkumpul: 2529\n"
     ]
    },
    {
     "name": "stderr",
     "output_type": "stream",
     "text": [
      " 65%|██████▌   | 198/304 [37:24<19:53, 11.26s/it]"
     ]
    },
    {
     "name": "stdout",
     "output_type": "stream",
     "text": [
      "Komentar dari postingan ini: 10, Total komentar terkumpul: 2539\n"
     ]
    },
    {
     "name": "stderr",
     "output_type": "stream",
     "text": [
      " 65%|██████▌   | 199/304 [37:35<19:40, 11.24s/it]"
     ]
    },
    {
     "name": "stdout",
     "output_type": "stream",
     "text": [
      "Komentar dari postingan ini: 12, Total komentar terkumpul: 2551\n"
     ]
    },
    {
     "name": "stderr",
     "output_type": "stream",
     "text": [
      " 66%|██████▌   | 200/304 [37:46<19:38, 11.33s/it]"
     ]
    },
    {
     "name": "stdout",
     "output_type": "stream",
     "text": [
      "Komentar dari postingan ini: 15, Total komentar terkumpul: 2566\n"
     ]
    },
    {
     "name": "stderr",
     "output_type": "stream",
     "text": [
      " 66%|██████▌   | 201/304 [37:57<19:18, 11.24s/it]"
     ]
    },
    {
     "name": "stdout",
     "output_type": "stream",
     "text": [
      "Komentar dari postingan ini: 9, Total komentar terkumpul: 2575\n"
     ]
    },
    {
     "name": "stderr",
     "output_type": "stream",
     "text": [
      " 66%|██████▋   | 202/304 [38:09<19:06, 11.24s/it]"
     ]
    },
    {
     "name": "stdout",
     "output_type": "stream",
     "text": [
      "Komentar dari postingan ini: 13, Total komentar terkumpul: 2588\n"
     ]
    },
    {
     "name": "stderr",
     "output_type": "stream",
     "text": [
      " 67%|██████▋   | 203/304 [38:20<18:52, 11.22s/it]"
     ]
    },
    {
     "name": "stdout",
     "output_type": "stream",
     "text": [
      "Komentar dari postingan ini: 13, Total komentar terkumpul: 2601\n"
     ]
    },
    {
     "name": "stderr",
     "output_type": "stream",
     "text": [
      " 67%|██████▋   | 204/304 [38:31<18:41, 11.22s/it]"
     ]
    },
    {
     "name": "stdout",
     "output_type": "stream",
     "text": [
      "Komentar dari postingan ini: 15, Total komentar terkumpul: 2616\n"
     ]
    },
    {
     "name": "stderr",
     "output_type": "stream",
     "text": [
      " 67%|██████▋   | 205/304 [38:42<18:26, 11.18s/it]"
     ]
    },
    {
     "name": "stdout",
     "output_type": "stream",
     "text": [
      "Komentar dari postingan ini: 10, Total komentar terkumpul: 2626\n"
     ]
    },
    {
     "name": "stderr",
     "output_type": "stream",
     "text": [
      " 68%|██████▊   | 206/304 [38:53<18:11, 11.13s/it]"
     ]
    },
    {
     "name": "stdout",
     "output_type": "stream",
     "text": [
      "Komentar dari postingan ini: 9, Total komentar terkumpul: 2635\n"
     ]
    },
    {
     "name": "stderr",
     "output_type": "stream",
     "text": [
      " 68%|██████▊   | 207/304 [39:04<18:01, 11.15s/it]"
     ]
    },
    {
     "name": "stdout",
     "output_type": "stream",
     "text": [
      "Komentar dari postingan ini: 15, Total komentar terkumpul: 2650\n"
     ]
    },
    {
     "name": "stderr",
     "output_type": "stream",
     "text": [
      " 68%|██████▊   | 208/304 [39:16<17:56, 11.22s/it]"
     ]
    },
    {
     "name": "stdout",
     "output_type": "stream",
     "text": [
      "Komentar dari postingan ini: 11, Total komentar terkumpul: 2661\n"
     ]
    },
    {
     "name": "stderr",
     "output_type": "stream",
     "text": [
      " 69%|██████▉   | 209/304 [39:27<17:48, 11.24s/it]"
     ]
    },
    {
     "name": "stdout",
     "output_type": "stream",
     "text": [
      "Komentar dari postingan ini: 10, Total komentar terkumpul: 2671\n"
     ]
    },
    {
     "name": "stderr",
     "output_type": "stream",
     "text": [
      " 69%|██████▉   | 210/304 [39:38<17:35, 11.23s/it]"
     ]
    },
    {
     "name": "stdout",
     "output_type": "stream",
     "text": [
      "Komentar dari postingan ini: 12, Total komentar terkumpul: 2683\n"
     ]
    },
    {
     "name": "stderr",
     "output_type": "stream",
     "text": [
      " 69%|██████▉   | 211/304 [39:49<17:26, 11.25s/it]"
     ]
    },
    {
     "name": "stdout",
     "output_type": "stream",
     "text": [
      "Komentar dari postingan ini: 14, Total komentar terkumpul: 2697\n"
     ]
    },
    {
     "name": "stderr",
     "output_type": "stream",
     "text": [
      " 70%|██████▉   | 212/304 [40:01<17:18, 11.28s/it]"
     ]
    },
    {
     "name": "stdout",
     "output_type": "stream",
     "text": [
      "Komentar dari postingan ini: 14, Total komentar terkumpul: 2711\n"
     ]
    },
    {
     "name": "stderr",
     "output_type": "stream",
     "text": [
      " 70%|███████   | 213/304 [40:12<17:08, 11.30s/it]"
     ]
    },
    {
     "name": "stdout",
     "output_type": "stream",
     "text": [
      "Komentar dari postingan ini: 8, Total komentar terkumpul: 2719\n"
     ]
    },
    {
     "name": "stderr",
     "output_type": "stream",
     "text": [
      " 70%|███████   | 214/304 [40:23<16:53, 11.26s/it]"
     ]
    },
    {
     "name": "stdout",
     "output_type": "stream",
     "text": [
      "Komentar dari postingan ini: 11, Total komentar terkumpul: 2730\n"
     ]
    },
    {
     "name": "stderr",
     "output_type": "stream",
     "text": [
      " 71%|███████   | 215/304 [40:35<16:41, 11.25s/it]"
     ]
    },
    {
     "name": "stdout",
     "output_type": "stream",
     "text": [
      "Komentar dari postingan ini: 15, Total komentar terkumpul: 2745\n"
     ]
    },
    {
     "name": "stderr",
     "output_type": "stream",
     "text": [
      " 71%|███████   | 216/304 [40:46<16:32, 11.27s/it]"
     ]
    },
    {
     "name": "stdout",
     "output_type": "stream",
     "text": [
      "Komentar dari postingan ini: 15, Total komentar terkumpul: 2760\n"
     ]
    },
    {
     "name": "stderr",
     "output_type": "stream",
     "text": [
      " 71%|███████▏  | 217/304 [40:57<16:23, 11.30s/it]"
     ]
    },
    {
     "name": "stdout",
     "output_type": "stream",
     "text": [
      "Komentar dari postingan ini: 15, Total komentar terkumpul: 2775\n"
     ]
    },
    {
     "name": "stderr",
     "output_type": "stream",
     "text": [
      " 72%|███████▏  | 218/304 [41:09<16:12, 11.31s/it]"
     ]
    },
    {
     "name": "stdout",
     "output_type": "stream",
     "text": [
      "Komentar dari postingan ini: 14, Total komentar terkumpul: 2789\n"
     ]
    },
    {
     "name": "stderr",
     "output_type": "stream",
     "text": [
      " 72%|███████▏  | 219/304 [41:20<15:59, 11.29s/it]"
     ]
    },
    {
     "name": "stdout",
     "output_type": "stream",
     "text": [
      "Komentar dari postingan ini: 13, Total komentar terkumpul: 2802\n"
     ]
    },
    {
     "name": "stderr",
     "output_type": "stream",
     "text": [
      " 72%|███████▏  | 220/304 [41:31<15:46, 11.27s/it]"
     ]
    },
    {
     "name": "stdout",
     "output_type": "stream",
     "text": [
      "Komentar dari postingan ini: 15, Total komentar terkumpul: 2817\n"
     ]
    },
    {
     "name": "stderr",
     "output_type": "stream",
     "text": [
      " 73%|███████▎  | 221/304 [41:42<15:31, 11.23s/it]"
     ]
    },
    {
     "name": "stdout",
     "output_type": "stream",
     "text": [
      "Komentar dari postingan ini: 12, Total komentar terkumpul: 2829\n"
     ]
    },
    {
     "name": "stderr",
     "output_type": "stream",
     "text": [
      " 73%|███████▎  | 222/304 [41:54<15:25, 11.29s/it]"
     ]
    },
    {
     "name": "stdout",
     "output_type": "stream",
     "text": [
      "Komentar dari postingan ini: 14, Total komentar terkumpul: 2843\n"
     ]
    },
    {
     "name": "stderr",
     "output_type": "stream",
     "text": [
      " 73%|███████▎  | 223/304 [42:06<15:35, 11.55s/it]"
     ]
    },
    {
     "name": "stdout",
     "output_type": "stream",
     "text": [
      "Komentar dari postingan ini: 14, Total komentar terkumpul: 2857\n"
     ]
    },
    {
     "name": "stderr",
     "output_type": "stream",
     "text": [
      " 74%|███████▎  | 224/304 [42:18<15:30, 11.63s/it]"
     ]
    },
    {
     "name": "stdout",
     "output_type": "stream",
     "text": [
      "Komentar dari postingan ini: 14, Total komentar terkumpul: 2871\n"
     ]
    },
    {
     "name": "stderr",
     "output_type": "stream",
     "text": [
      " 74%|███████▍  | 225/304 [42:29<15:12, 11.55s/it]"
     ]
    },
    {
     "name": "stdout",
     "output_type": "stream",
     "text": [
      "Komentar dari postingan ini: 15, Total komentar terkumpul: 2886\n"
     ]
    },
    {
     "name": "stderr",
     "output_type": "stream",
     "text": [
      " 74%|███████▍  | 226/304 [42:40<14:53, 11.46s/it]"
     ]
    },
    {
     "name": "stdout",
     "output_type": "stream",
     "text": [
      "Komentar dari postingan ini: 14, Total komentar terkumpul: 2900\n"
     ]
    },
    {
     "name": "stderr",
     "output_type": "stream",
     "text": [
      " 75%|███████▍  | 227/304 [42:52<14:50, 11.57s/it]"
     ]
    },
    {
     "name": "stdout",
     "output_type": "stream",
     "text": [
      "Komentar dari postingan ini: 12, Total komentar terkumpul: 2912\n"
     ]
    },
    {
     "name": "stderr",
     "output_type": "stream",
     "text": [
      " 75%|███████▌  | 228/304 [43:03<14:29, 11.45s/it]"
     ]
    },
    {
     "name": "stdout",
     "output_type": "stream",
     "text": [
      "Komentar dari postingan ini: 14, Total komentar terkumpul: 2926\n"
     ]
    },
    {
     "name": "stderr",
     "output_type": "stream",
     "text": [
      " 75%|███████▌  | 229/304 [43:14<14:12, 11.37s/it]"
     ]
    },
    {
     "name": "stdout",
     "output_type": "stream",
     "text": [
      "Komentar dari postingan ini: 13, Total komentar terkumpul: 2939\n"
     ]
    },
    {
     "name": "stderr",
     "output_type": "stream",
     "text": [
      " 76%|███████▌  | 230/304 [43:26<14:01, 11.37s/it]"
     ]
    },
    {
     "name": "stdout",
     "output_type": "stream",
     "text": [
      "Komentar dari postingan ini: 13, Total komentar terkumpul: 2952\n"
     ]
    },
    {
     "name": "stderr",
     "output_type": "stream",
     "text": [
      " 76%|███████▌  | 231/304 [43:37<13:47, 11.34s/it]"
     ]
    },
    {
     "name": "stdout",
     "output_type": "stream",
     "text": [
      "Komentar dari postingan ini: 13, Total komentar terkumpul: 2965\n"
     ]
    },
    {
     "name": "stderr",
     "output_type": "stream",
     "text": [
      " 76%|███████▋  | 232/304 [43:48<13:30, 11.26s/it]"
     ]
    },
    {
     "name": "stdout",
     "output_type": "stream",
     "text": [
      "Komentar dari postingan ini: 13, Total komentar terkumpul: 2978\n"
     ]
    },
    {
     "name": "stderr",
     "output_type": "stream",
     "text": [
      " 77%|███████▋  | 233/304 [43:59<13:19, 11.26s/it]"
     ]
    },
    {
     "name": "stdout",
     "output_type": "stream",
     "text": [
      "Komentar dari postingan ini: 13, Total komentar terkumpul: 2991\n"
     ]
    },
    {
     "name": "stderr",
     "output_type": "stream",
     "text": [
      " 77%|███████▋  | 234/304 [44:11<13:08, 11.26s/it]"
     ]
    },
    {
     "name": "stdout",
     "output_type": "stream",
     "text": [
      "Komentar dari postingan ini: 11, Total komentar terkumpul: 3002\n"
     ]
    },
    {
     "name": "stderr",
     "output_type": "stream",
     "text": [
      " 77%|███████▋  | 235/304 [44:22<12:54, 11.23s/it]"
     ]
    },
    {
     "name": "stdout",
     "output_type": "stream",
     "text": [
      "Komentar dari postingan ini: 14, Total komentar terkumpul: 3016\n"
     ]
    },
    {
     "name": "stderr",
     "output_type": "stream",
     "text": [
      " 78%|███████▊  | 236/304 [44:33<12:44, 11.25s/it]"
     ]
    },
    {
     "name": "stdout",
     "output_type": "stream",
     "text": [
      "Komentar dari postingan ini: 14, Total komentar terkumpul: 3030\n"
     ]
    },
    {
     "name": "stderr",
     "output_type": "stream",
     "text": [
      " 78%|███████▊  | 237/304 [44:45<12:39, 11.33s/it]"
     ]
    },
    {
     "name": "stdout",
     "output_type": "stream",
     "text": [
      "Komentar dari postingan ini: 12, Total komentar terkumpul: 3042\n"
     ]
    },
    {
     "name": "stderr",
     "output_type": "stream",
     "text": [
      " 78%|███████▊  | 238/304 [44:56<12:33, 11.42s/it]"
     ]
    },
    {
     "name": "stdout",
     "output_type": "stream",
     "text": [
      "Komentar dari postingan ini: 13, Total komentar terkumpul: 3055\n"
     ]
    },
    {
     "name": "stderr",
     "output_type": "stream",
     "text": [
      " 79%|███████▊  | 239/304 [45:07<12:17, 11.35s/it]"
     ]
    },
    {
     "name": "stdout",
     "output_type": "stream",
     "text": [
      "Komentar dari postingan ini: 13, Total komentar terkumpul: 3068\n"
     ]
    },
    {
     "name": "stderr",
     "output_type": "stream",
     "text": [
      " 79%|███████▉  | 240/304 [45:19<12:04, 11.33s/it]"
     ]
    },
    {
     "name": "stdout",
     "output_type": "stream",
     "text": [
      "Komentar dari postingan ini: 14, Total komentar terkumpul: 3082\n"
     ]
    },
    {
     "name": "stderr",
     "output_type": "stream",
     "text": [
      " 79%|███████▉  | 241/304 [45:30<11:52, 11.32s/it]"
     ]
    },
    {
     "name": "stdout",
     "output_type": "stream",
     "text": [
      "Komentar dari postingan ini: 14, Total komentar terkumpul: 3096\n"
     ]
    },
    {
     "name": "stderr",
     "output_type": "stream",
     "text": [
      " 80%|███████▉  | 242/304 [45:41<11:36, 11.24s/it]"
     ]
    },
    {
     "name": "stdout",
     "output_type": "stream",
     "text": [
      "Komentar dari postingan ini: 14, Total komentar terkumpul: 3110\n"
     ]
    },
    {
     "name": "stderr",
     "output_type": "stream",
     "text": [
      " 80%|███████▉  | 243/304 [45:52<11:25, 11.24s/it]"
     ]
    },
    {
     "name": "stdout",
     "output_type": "stream",
     "text": [
      "Komentar dari postingan ini: 12, Total komentar terkumpul: 3122\n"
     ]
    },
    {
     "name": "stderr",
     "output_type": "stream",
     "text": [
      " 80%|████████  | 244/304 [46:04<11:16, 11.28s/it]"
     ]
    },
    {
     "name": "stdout",
     "output_type": "stream",
     "text": [
      "Komentar dari postingan ini: 15, Total komentar terkumpul: 3137\n"
     ]
    },
    {
     "name": "stderr",
     "output_type": "stream",
     "text": [
      " 81%|████████  | 245/304 [46:15<11:03, 11.24s/it]"
     ]
    },
    {
     "name": "stdout",
     "output_type": "stream",
     "text": [
      "Komentar dari postingan ini: 14, Total komentar terkumpul: 3151\n"
     ]
    },
    {
     "name": "stderr",
     "output_type": "stream",
     "text": [
      " 81%|████████  | 246/304 [46:26<10:50, 11.21s/it]"
     ]
    },
    {
     "name": "stdout",
     "output_type": "stream",
     "text": [
      "Komentar dari postingan ini: 12, Total komentar terkumpul: 3163\n"
     ]
    },
    {
     "name": "stderr",
     "output_type": "stream",
     "text": [
      " 81%|████████▏ | 247/304 [46:37<10:39, 11.22s/it]"
     ]
    },
    {
     "name": "stdout",
     "output_type": "stream",
     "text": [
      "Komentar dari postingan ini: 15, Total komentar terkumpul: 3178\n"
     ]
    },
    {
     "name": "stderr",
     "output_type": "stream",
     "text": [
      " 82%|████████▏ | 248/304 [46:49<10:32, 11.29s/it]"
     ]
    },
    {
     "name": "stdout",
     "output_type": "stream",
     "text": [
      "Komentar dari postingan ini: 15, Total komentar terkumpul: 3193\n"
     ]
    },
    {
     "name": "stderr",
     "output_type": "stream",
     "text": [
      " 82%|████████▏ | 249/304 [47:00<10:21, 11.30s/it]"
     ]
    },
    {
     "name": "stdout",
     "output_type": "stream",
     "text": [
      "Komentar dari postingan ini: 9, Total komentar terkumpul: 3202\n"
     ]
    },
    {
     "name": "stderr",
     "output_type": "stream",
     "text": [
      " 82%|████████▏ | 250/304 [47:11<10:08, 11.26s/it]"
     ]
    },
    {
     "name": "stdout",
     "output_type": "stream",
     "text": [
      "Komentar dari postingan ini: 12, Total komentar terkumpul: 3214\n"
     ]
    },
    {
     "name": "stderr",
     "output_type": "stream",
     "text": [
      " 83%|████████▎ | 251/304 [47:22<09:56, 11.25s/it]"
     ]
    },
    {
     "name": "stdout",
     "output_type": "stream",
     "text": [
      "Komentar dari postingan ini: 14, Total komentar terkumpul: 3228\n"
     ]
    },
    {
     "name": "stderr",
     "output_type": "stream",
     "text": [
      " 83%|████████▎ | 252/304 [47:34<09:45, 11.27s/it]"
     ]
    },
    {
     "name": "stdout",
     "output_type": "stream",
     "text": [
      "Komentar dari postingan ini: 15, Total komentar terkumpul: 3243\n"
     ]
    },
    {
     "name": "stderr",
     "output_type": "stream",
     "text": [
      " 83%|████████▎ | 253/304 [47:45<09:32, 11.22s/it]"
     ]
    },
    {
     "name": "stdout",
     "output_type": "stream",
     "text": [
      "Komentar dari postingan ini: 13, Total komentar terkumpul: 3256\n"
     ]
    },
    {
     "name": "stderr",
     "output_type": "stream",
     "text": [
      " 84%|████████▎ | 254/304 [47:56<09:22, 11.25s/it]"
     ]
    },
    {
     "name": "stdout",
     "output_type": "stream",
     "text": [
      "Komentar dari postingan ini: 9, Total komentar terkumpul: 3265\n"
     ]
    },
    {
     "name": "stderr",
     "output_type": "stream",
     "text": [
      " 84%|████████▍ | 255/304 [48:07<09:10, 11.23s/it]"
     ]
    },
    {
     "name": "stdout",
     "output_type": "stream",
     "text": [
      "Komentar dari postingan ini: 14, Total komentar terkumpul: 3279\n"
     ]
    },
    {
     "name": "stderr",
     "output_type": "stream",
     "text": [
      " 84%|████████▍ | 256/304 [48:19<09:02, 11.30s/it]"
     ]
    },
    {
     "name": "stdout",
     "output_type": "stream",
     "text": [
      "Komentar dari postingan ini: 14, Total komentar terkumpul: 3293\n"
     ]
    },
    {
     "name": "stderr",
     "output_type": "stream",
     "text": [
      " 85%|████████▍ | 257/304 [48:31<08:57, 11.44s/it]"
     ]
    },
    {
     "name": "stdout",
     "output_type": "stream",
     "text": [
      "Komentar dari postingan ini: 14, Total komentar terkumpul: 3307\n"
     ]
    },
    {
     "name": "stderr",
     "output_type": "stream",
     "text": [
      " 85%|████████▍ | 258/304 [48:42<08:51, 11.55s/it]"
     ]
    },
    {
     "name": "stdout",
     "output_type": "stream",
     "text": [
      "Komentar dari postingan ini: 15, Total komentar terkumpul: 3322\n"
     ]
    },
    {
     "name": "stderr",
     "output_type": "stream",
     "text": [
      " 85%|████████▌ | 259/304 [48:54<08:35, 11.45s/it]"
     ]
    },
    {
     "name": "stdout",
     "output_type": "stream",
     "text": [
      "Komentar dari postingan ini: 12, Total komentar terkumpul: 3334\n"
     ]
    },
    {
     "name": "stderr",
     "output_type": "stream",
     "text": [
      " 86%|████████▌ | 260/304 [49:05<08:26, 11.51s/it]"
     ]
    },
    {
     "name": "stdout",
     "output_type": "stream",
     "text": [
      "Komentar dari postingan ini: 13, Total komentar terkumpul: 3347\n"
     ]
    },
    {
     "name": "stderr",
     "output_type": "stream",
     "text": [
      " 86%|████████▌ | 261/304 [49:17<08:21, 11.66s/it]"
     ]
    },
    {
     "name": "stdout",
     "output_type": "stream",
     "text": [
      "Komentar dari postingan ini: 11, Total komentar terkumpul: 3358\n"
     ]
    },
    {
     "name": "stderr",
     "output_type": "stream",
     "text": [
      " 86%|████████▌ | 262/304 [49:29<08:11, 11.69s/it]"
     ]
    },
    {
     "name": "stdout",
     "output_type": "stream",
     "text": [
      "Komentar dari postingan ini: 10, Total komentar terkumpul: 3368\n"
     ]
    },
    {
     "name": "stderr",
     "output_type": "stream",
     "text": [
      " 87%|████████▋ | 263/304 [49:41<08:02, 11.76s/it]"
     ]
    },
    {
     "name": "stdout",
     "output_type": "stream",
     "text": [
      "Komentar dari postingan ini: 15, Total komentar terkumpul: 3383\n"
     ]
    },
    {
     "name": "stderr",
     "output_type": "stream",
     "text": [
      " 87%|████████▋ | 264/304 [49:53<07:53, 11.84s/it]"
     ]
    },
    {
     "name": "stdout",
     "output_type": "stream",
     "text": [
      "Komentar dari postingan ini: 13, Total komentar terkumpul: 3396\n"
     ]
    },
    {
     "name": "stderr",
     "output_type": "stream",
     "text": [
      " 87%|████████▋ | 265/304 [50:04<07:35, 11.68s/it]"
     ]
    },
    {
     "name": "stdout",
     "output_type": "stream",
     "text": [
      "Komentar dari postingan ini: 14, Total komentar terkumpul: 3410\n"
     ]
    },
    {
     "name": "stderr",
     "output_type": "stream",
     "text": [
      " 88%|████████▊ | 266/304 [50:16<07:24, 11.70s/it]"
     ]
    },
    {
     "name": "stdout",
     "output_type": "stream",
     "text": [
      "Komentar dari postingan ini: 15, Total komentar terkumpul: 3425\n"
     ]
    },
    {
     "name": "stderr",
     "output_type": "stream",
     "text": [
      " 88%|████████▊ | 267/304 [50:28<07:11, 11.66s/it]"
     ]
    },
    {
     "name": "stdout",
     "output_type": "stream",
     "text": [
      "Komentar dari postingan ini: 13, Total komentar terkumpul: 3438\n"
     ]
    },
    {
     "name": "stderr",
     "output_type": "stream",
     "text": [
      " 88%|████████▊ | 268/304 [50:39<06:58, 11.61s/it]"
     ]
    },
    {
     "name": "stdout",
     "output_type": "stream",
     "text": [
      "Komentar dari postingan ini: 14, Total komentar terkumpul: 3452\n"
     ]
    },
    {
     "name": "stderr",
     "output_type": "stream",
     "text": [
      " 88%|████████▊ | 269/304 [50:51<06:51, 11.74s/it]"
     ]
    },
    {
     "name": "stdout",
     "output_type": "stream",
     "text": [
      "Komentar dari postingan ini: 9, Total komentar terkumpul: 3461\n"
     ]
    },
    {
     "name": "stderr",
     "output_type": "stream",
     "text": [
      " 89%|████████▉ | 270/304 [51:03<06:36, 11.67s/it]"
     ]
    },
    {
     "name": "stdout",
     "output_type": "stream",
     "text": [
      "Komentar dari postingan ini: 14, Total komentar terkumpul: 3475\n"
     ]
    },
    {
     "name": "stderr",
     "output_type": "stream",
     "text": [
      " 89%|████████▉ | 271/304 [51:14<06:21, 11.55s/it]"
     ]
    },
    {
     "name": "stdout",
     "output_type": "stream",
     "text": [
      "Komentar dari postingan ini: 11, Total komentar terkumpul: 3486\n"
     ]
    },
    {
     "name": "stderr",
     "output_type": "stream",
     "text": [
      " 89%|████████▉ | 272/304 [51:25<06:08, 11.53s/it]"
     ]
    },
    {
     "name": "stdout",
     "output_type": "stream",
     "text": [
      "Komentar dari postingan ini: 7, Total komentar terkumpul: 3493\n"
     ]
    },
    {
     "name": "stderr",
     "output_type": "stream",
     "text": [
      " 90%|████████▉ | 273/304 [51:37<05:57, 11.52s/it]"
     ]
    },
    {
     "name": "stdout",
     "output_type": "stream",
     "text": [
      "Komentar dari postingan ini: 13, Total komentar terkumpul: 3506\n"
     ]
    },
    {
     "name": "stderr",
     "output_type": "stream",
     "text": [
      " 90%|█████████ | 274/304 [51:48<05:46, 11.54s/it]"
     ]
    },
    {
     "name": "stdout",
     "output_type": "stream",
     "text": [
      "Komentar dari postingan ini: 12, Total komentar terkumpul: 3518\n"
     ]
    },
    {
     "name": "stderr",
     "output_type": "stream",
     "text": [
      " 90%|█████████ | 275/304 [52:01<05:40, 11.73s/it]"
     ]
    },
    {
     "name": "stdout",
     "output_type": "stream",
     "text": [
      "Komentar dari postingan ini: 9, Total komentar terkumpul: 3527\n"
     ]
    },
    {
     "name": "stderr",
     "output_type": "stream",
     "text": [
      " 91%|█████████ | 276/304 [52:12<05:26, 11.67s/it]"
     ]
    },
    {
     "name": "stdout",
     "output_type": "stream",
     "text": [
      "Komentar dari postingan ini: 13, Total komentar terkumpul: 3540\n"
     ]
    },
    {
     "name": "stderr",
     "output_type": "stream",
     "text": [
      " 91%|█████████ | 277/304 [52:24<05:14, 11.64s/it]"
     ]
    },
    {
     "name": "stdout",
     "output_type": "stream",
     "text": [
      "Komentar dari postingan ini: 15, Total komentar terkumpul: 3555\n"
     ]
    },
    {
     "name": "stderr",
     "output_type": "stream",
     "text": [
      " 91%|█████████▏| 278/304 [52:35<05:03, 11.68s/it]"
     ]
    },
    {
     "name": "stdout",
     "output_type": "stream",
     "text": [
      "Komentar dari postingan ini: 11, Total komentar terkumpul: 3566\n"
     ]
    },
    {
     "name": "stderr",
     "output_type": "stream",
     "text": [
      " 92%|█████████▏| 279/304 [52:47<04:49, 11.56s/it]"
     ]
    },
    {
     "name": "stdout",
     "output_type": "stream",
     "text": [
      "Komentar dari postingan ini: 15, Total komentar terkumpul: 3581\n"
     ]
    },
    {
     "name": "stderr",
     "output_type": "stream",
     "text": [
      " 92%|█████████▏| 280/304 [52:59<04:45, 11.89s/it]"
     ]
    },
    {
     "name": "stdout",
     "output_type": "stream",
     "text": [
      "Komentar dari postingan ini: 15, Total komentar terkumpul: 3596\n"
     ]
    },
    {
     "name": "stderr",
     "output_type": "stream",
     "text": [
      " 92%|█████████▏| 281/304 [53:11<04:32, 11.85s/it]"
     ]
    },
    {
     "name": "stdout",
     "output_type": "stream",
     "text": [
      "Komentar dari postingan ini: 13, Total komentar terkumpul: 3609\n"
     ]
    },
    {
     "name": "stderr",
     "output_type": "stream",
     "text": [
      " 93%|█████████▎| 282/304 [53:23<04:17, 11.72s/it]"
     ]
    },
    {
     "name": "stdout",
     "output_type": "stream",
     "text": [
      "Komentar dari postingan ini: 13, Total komentar terkumpul: 3622\n"
     ]
    },
    {
     "name": "stderr",
     "output_type": "stream",
     "text": [
      " 93%|█████████▎| 283/304 [53:34<04:05, 11.71s/it]"
     ]
    },
    {
     "name": "stdout",
     "output_type": "stream",
     "text": [
      "Komentar dari postingan ini: 11, Total komentar terkumpul: 3633\n"
     ]
    },
    {
     "name": "stderr",
     "output_type": "stream",
     "text": [
      " 93%|█████████▎| 284/304 [53:46<03:54, 11.72s/it]"
     ]
    },
    {
     "name": "stdout",
     "output_type": "stream",
     "text": [
      "Komentar dari postingan ini: 14, Total komentar terkumpul: 3647\n"
     ]
    },
    {
     "name": "stderr",
     "output_type": "stream",
     "text": [
      " 94%|█████████▍| 285/304 [53:57<03:40, 11.62s/it]"
     ]
    },
    {
     "name": "stdout",
     "output_type": "stream",
     "text": [
      "Komentar dari postingan ini: 12, Total komentar terkumpul: 3659\n"
     ]
    },
    {
     "name": "stderr",
     "output_type": "stream",
     "text": [
      " 94%|█████████▍| 286/304 [54:09<03:29, 11.66s/it]"
     ]
    },
    {
     "name": "stdout",
     "output_type": "stream",
     "text": [
      "Komentar dari postingan ini: 7, Total komentar terkumpul: 3666\n"
     ]
    },
    {
     "name": "stderr",
     "output_type": "stream",
     "text": [
      " 94%|█████████▍| 287/304 [54:22<03:23, 11.97s/it]"
     ]
    },
    {
     "name": "stdout",
     "output_type": "stream",
     "text": [
      "Komentar dari postingan ini: 14, Total komentar terkumpul: 3680\n"
     ]
    },
    {
     "name": "stderr",
     "output_type": "stream",
     "text": [
      " 95%|█████████▍| 288/304 [54:33<03:09, 11.86s/it]"
     ]
    },
    {
     "name": "stdout",
     "output_type": "stream",
     "text": [
      "Komentar dari postingan ini: 9, Total komentar terkumpul: 3689\n"
     ]
    },
    {
     "name": "stderr",
     "output_type": "stream",
     "text": [
      " 95%|█████████▌| 289/304 [54:45<02:57, 11.83s/it]"
     ]
    },
    {
     "name": "stdout",
     "output_type": "stream",
     "text": [
      "Komentar dari postingan ini: 15, Total komentar terkumpul: 3704\n"
     ]
    },
    {
     "name": "stderr",
     "output_type": "stream",
     "text": [
      " 95%|█████████▌| 290/304 [54:57<02:44, 11.73s/it]"
     ]
    },
    {
     "name": "stdout",
     "output_type": "stream",
     "text": [
      "Komentar dari postingan ini: 14, Total komentar terkumpul: 3718\n"
     ]
    },
    {
     "name": "stderr",
     "output_type": "stream",
     "text": [
      " 96%|█████████▌| 291/304 [55:08<02:31, 11.66s/it]"
     ]
    },
    {
     "name": "stdout",
     "output_type": "stream",
     "text": [
      "Komentar dari postingan ini: 12, Total komentar terkumpul: 3730\n"
     ]
    },
    {
     "name": "stderr",
     "output_type": "stream",
     "text": [
      " 96%|█████████▌| 292/304 [55:20<02:19, 11.63s/it]"
     ]
    },
    {
     "name": "stdout",
     "output_type": "stream",
     "text": [
      "Komentar dari postingan ini: 11, Total komentar terkumpul: 3741\n"
     ]
    },
    {
     "name": "stderr",
     "output_type": "stream",
     "text": [
      " 96%|█████████▋| 293/304 [55:32<02:08, 11.69s/it]"
     ]
    },
    {
     "name": "stdout",
     "output_type": "stream",
     "text": [
      "Komentar dari postingan ini: 14, Total komentar terkumpul: 3755\n"
     ]
    },
    {
     "name": "stderr",
     "output_type": "stream",
     "text": [
      " 97%|█████████▋| 294/304 [55:43<01:56, 11.64s/it]"
     ]
    },
    {
     "name": "stdout",
     "output_type": "stream",
     "text": [
      "Komentar dari postingan ini: 10, Total komentar terkumpul: 3765\n"
     ]
    },
    {
     "name": "stderr",
     "output_type": "stream",
     "text": [
      " 97%|█████████▋| 295/304 [55:55<01:44, 11.60s/it]"
     ]
    },
    {
     "name": "stdout",
     "output_type": "stream",
     "text": [
      "Komentar dari postingan ini: 15, Total komentar terkumpul: 3780\n"
     ]
    },
    {
     "name": "stderr",
     "output_type": "stream",
     "text": [
      " 97%|█████████▋| 296/304 [56:06<01:32, 11.58s/it]"
     ]
    },
    {
     "name": "stdout",
     "output_type": "stream",
     "text": [
      "Komentar dari postingan ini: 14, Total komentar terkumpul: 3794\n"
     ]
    },
    {
     "name": "stderr",
     "output_type": "stream",
     "text": [
      " 98%|█████████▊| 297/304 [56:18<01:20, 11.57s/it]"
     ]
    },
    {
     "name": "stdout",
     "output_type": "stream",
     "text": [
      "Komentar dari postingan ini: 13, Total komentar terkumpul: 3807\n"
     ]
    },
    {
     "name": "stderr",
     "output_type": "stream",
     "text": [
      " 98%|█████████▊| 298/304 [56:29<01:09, 11.59s/it]"
     ]
    },
    {
     "name": "stdout",
     "output_type": "stream",
     "text": [
      "Komentar dari postingan ini: 4, Total komentar terkumpul: 3811\n"
     ]
    },
    {
     "name": "stderr",
     "output_type": "stream",
     "text": [
      " 98%|█████████▊| 299/304 [56:41<00:57, 11.49s/it]"
     ]
    },
    {
     "name": "stdout",
     "output_type": "stream",
     "text": [
      "Komentar dari postingan ini: 13, Total komentar terkumpul: 3824\n"
     ]
    },
    {
     "name": "stderr",
     "output_type": "stream",
     "text": [
      " 99%|█████████▊| 300/304 [56:52<00:45, 11.44s/it]"
     ]
    },
    {
     "name": "stdout",
     "output_type": "stream",
     "text": [
      "Komentar dari postingan ini: 15, Total komentar terkumpul: 3839\n"
     ]
    },
    {
     "name": "stderr",
     "output_type": "stream",
     "text": [
      " 99%|█████████▉| 301/304 [57:04<00:34, 11.49s/it]"
     ]
    },
    {
     "name": "stdout",
     "output_type": "stream",
     "text": [
      "Komentar dari postingan ini: 10, Total komentar terkumpul: 3849\n"
     ]
    },
    {
     "name": "stderr",
     "output_type": "stream",
     "text": [
      " 99%|█████████▉| 302/304 [57:15<00:22, 11.41s/it]"
     ]
    },
    {
     "name": "stdout",
     "output_type": "stream",
     "text": [
      "Komentar dari postingan ini: 14, Total komentar terkumpul: 3863\n"
     ]
    },
    {
     "name": "stderr",
     "output_type": "stream",
     "text": [
      "100%|█████████▉| 303/304 [57:27<00:11, 11.52s/it]"
     ]
    },
    {
     "name": "stdout",
     "output_type": "stream",
     "text": [
      "Komentar dari postingan ini: 13, Total komentar terkumpul: 3876\n"
     ]
    },
    {
     "name": "stderr",
     "output_type": "stream",
     "text": [
      "100%|██████████| 304/304 [57:38<00:00, 11.38s/it]"
     ]
    },
    {
     "name": "stdout",
     "output_type": "stream",
     "text": [
      "Komentar dari postingan ini: 14, Total komentar terkumpul: 3890\n",
      "\n",
      "Total semua komentar terkumpul: 3890\n"
     ]
    },
    {
     "name": "stderr",
     "output_type": "stream",
     "text": [
      "\n"
     ]
    }
   ],
   "source": [
    "# --- Fungsi hapus emoji ---\n",
    "def remove_emojis(text):\n",
    "    emoji_pattern = re.compile(\n",
    "        \"[\"\n",
    "        \"\\U0001F600-\\U0001F64F\"  # emotikon\n",
    "        \"\\U0001F300-\\U0001F5FF\"  # simbol & pictographs\n",
    "        \"\\U0001F680-\\U0001F6FF\"  # transport\n",
    "        \"\\U0001F1E0-\\U0001F1FF\"  # flags\n",
    "        \"\\U00002500-\\U00002BEF\"\n",
    "        \"\\U00002702-\\U000027B0\"\n",
    "        \"\\U000024C2-\\U0001F251\"\n",
    "        \"\\U0001f926-\\U0001f937\"\n",
    "        \"\\U00010000-\\U0010ffff\"\n",
    "        \"\\u2640-\\u2642\"\n",
    "        \"\\u2600-\\u2B55\"\n",
    "        \"\\u200d\"\n",
    "        \"\\u23cf\"\n",
    "        \"\\u23e9\"\n",
    "        \"\\u231a\"\n",
    "        \"\\ufe0f\"\n",
    "        \"\\u3030\"\n",
    "        \"]+\", flags=re.UNICODE)\n",
    "    return emoji_pattern.sub(r'', text)\n",
    "\n",
    "# --- Setting ---\n",
    "total_comments_target = 10000\n",
    "\n",
    "comments = []\n",
    "\n",
    "for post_link in tqdm(links):\n",
    "    driver.get(post_link)\n",
    "    time.sleep(5)\n",
    "\n",
    "    # Klik \"View more comments\" berkali-kali\n",
    "    while True:\n",
    "        try:\n",
    "            load_more = driver.find_element(By.XPATH, '//span[contains(text(), \"View more comments\") or contains(text(), \"Load more comments\") or contains(text(),\"View all comments\")]')\n",
    "            driver.execute_script(\"arguments[0].click();\", load_more)\n",
    "            time.sleep(2)\n",
    "        except:\n",
    "            break  # Tidak ada tombol lagi\n",
    "\n",
    "    # Scroll supaya semua komentar keluar\n",
    "    scroll_pause_time = 5\n",
    "    scroll_count = 0\n",
    "    max_scrolls = 50\n",
    "\n",
    "    last_height = driver.execute_script(\"return document.body.scrollHeight\")\n",
    "    while scroll_count < max_scrolls:\n",
    "        driver.execute_script(\"window.scrollTo(0, document.body.scrollHeight);\")\n",
    "        time.sleep(scroll_pause_time)\n",
    "        new_height = driver.execute_script(\"return document.body.scrollHeight\")\n",
    "\n",
    "        if new_height == last_height:\n",
    "            break\n",
    "        last_height = new_height\n",
    "        scroll_count += 1\n",
    "\n",
    "    # --- Ambil komentar (setelah selesai scroll) ---\n",
    "    try:\n",
    "        comment_elements = driver.find_elements(By.XPATH, '//span[contains(@class, \"ap3a\") and contains(@class, \"_aaco\") and contains(@class, \"_aacu\") and contains(@class, \"_aacx\") and contains(@class, \"_aad7\") and contains(@class, \"_aade\")]')\n",
    "        post_comment_count = 0\n",
    "\n",
    "        for elem in comment_elements:\n",
    "            raw_comment = elem.text.strip()\n",
    "            clean_comment = remove_emojis(raw_comment).strip()\n",
    "\n",
    "            if clean_comment:\n",
    "                comments.append(clean_comment)\n",
    "                post_comment_count += 1\n",
    "\n",
    "        print(f\"Komentar dari postingan ini: {post_comment_count}, Total komentar terkumpul: {len(comments)}\")\n",
    "\n",
    "    except Exception as e:\n",
    "        print(f\"Gagal ambil komentar di {post_link}, error: {e}\")\n",
    "\n",
    "    if len(comments) >= total_comments_target:\n",
    "        break\n",
    "\n",
    "print(f\"\\nTotal semua komentar terkumpul: {len(comments)}\")"
   ]
  },
  {
   "cell_type": "code",
   "execution_count": 78,
   "id": "22d523be-500d-4dfe-a2df-66baf1993e6a",
   "metadata": {},
   "outputs": [],
   "source": [
    "# --- Simpan ke CSV ---\n",
    "with open('komentar.csv', 'w', newline='', encoding='utf-8') as f:\n",
    "    writer = csv.writer(f)\n",
    "    writer.writerow(['Komentar'])\n",
    "    for comment in comments:\n",
    "        writer.writerow([comment])\n",
    "\n",
    "# Tutup driver\n",
    "driver.quit()"
   ]
  },
  {
   "cell_type": "code",
   "execution_count": 80,
   "id": "e4fc5b6a-83f6-417c-b1dc-9e253f7b6160",
   "metadata": {},
   "outputs": [
    {
     "data": {
      "text/html": [
       "<div>\n",
       "<style scoped>\n",
       "    .dataframe tbody tr th:only-of-type {\n",
       "        vertical-align: middle;\n",
       "    }\n",
       "\n",
       "    .dataframe tbody tr th {\n",
       "        vertical-align: top;\n",
       "    }\n",
       "\n",
       "    .dataframe thead th {\n",
       "        text-align: right;\n",
       "    }\n",
       "</style>\n",
       "<table border=\"1\" class=\"dataframe\">\n",
       "  <thead>\n",
       "    <tr style=\"text-align: right;\">\n",
       "      <th></th>\n",
       "      <th>Komentar</th>\n",
       "    </tr>\n",
       "  </thead>\n",
       "  <tbody>\n",
       "    <tr>\n",
       "      <th>0</th>\n",
       "      <td>Tetap ada oyen</td>\n",
       "    </tr>\n",
       "    <tr>\n",
       "      <th>1</th>\n",
       "      <td>Selamat Tahun Baru Islam 1446 H! Semoga Allah ...</td>\n",
       "    </tr>\n",
       "    <tr>\n",
       "      <th>2</th>\n",
       "      <td>Masya allah</td>\n",
       "    </tr>\n",
       "    <tr>\n",
       "      <th>3</th>\n",
       "      <td>Tim yg cari kucing oyen ----------&gt;</td>\n",
       "    </tr>\n",
       "    <tr>\n",
       "      <th>4</th>\n",
       "      <td>selamat tahun Baru Islam</td>\n",
       "    </tr>\n",
       "    <tr>\n",
       "      <th>...</th>\n",
       "      <td>...</td>\n",
       "    </tr>\n",
       "    <tr>\n",
       "      <th>95</th>\n",
       "      <td>Saya juga mau berkunjung boleh nggak pak?</td>\n",
       "    </tr>\n",
       "    <tr>\n",
       "      <th>96</th>\n",
       "      <td>Lg santai kawan</td>\n",
       "    </tr>\n",
       "    <tr>\n",
       "      <th>97</th>\n",
       "      <td>Sehat selalu bapak jokowi</td>\n",
       "    </tr>\n",
       "    <tr>\n",
       "      <th>98</th>\n",
       "      <td>Sehat sll bpk</td>\n",
       "    </tr>\n",
       "    <tr>\n",
       "      <th>99</th>\n",
       "      <td>Sehat sll Pakde,,, menikmati hari2 santai bers...</td>\n",
       "    </tr>\n",
       "  </tbody>\n",
       "</table>\n",
       "<p>100 rows × 1 columns</p>\n",
       "</div>"
      ],
      "text/plain": [
       "                                             Komentar\n",
       "0                                      Tetap ada oyen\n",
       "1   Selamat Tahun Baru Islam 1446 H! Semoga Allah ...\n",
       "2                                         Masya allah\n",
       "3                 Tim yg cari kucing oyen ---------->\n",
       "4                            selamat tahun Baru Islam\n",
       "..                                                ...\n",
       "95          Saya juga mau berkunjung boleh nggak pak?\n",
       "96                                    Lg santai kawan\n",
       "97                          Sehat selalu bapak jokowi\n",
       "98                                      Sehat sll bpk\n",
       "99  Sehat sll Pakde,,, menikmati hari2 santai bers...\n",
       "\n",
       "[100 rows x 1 columns]"
      ]
     },
     "execution_count": 80,
     "metadata": {},
     "output_type": "execute_result"
    }
   ],
   "source": [
    "data=pd.read_csv(\"komentar.csv\")\n",
    "data.head(100)"
   ]
  },
  {
   "cell_type": "code",
   "execution_count": null,
   "id": "cb945bc4-bdd8-48cb-8086-0630a9b88525",
   "metadata": {},
   "outputs": [],
   "source": []
  }
 ],
 "metadata": {
  "kernelspec": {
   "display_name": "Python [conda env:base] *",
   "language": "python",
   "name": "conda-base-py"
  },
  "language_info": {
   "codemirror_mode": {
    "name": "ipython",
    "version": 3
   },
   "file_extension": ".py",
   "mimetype": "text/x-python",
   "name": "python",
   "nbconvert_exporter": "python",
   "pygments_lexer": "ipython3",
   "version": "3.12.7"
  }
 },
 "nbformat": 4,
 "nbformat_minor": 5
}
